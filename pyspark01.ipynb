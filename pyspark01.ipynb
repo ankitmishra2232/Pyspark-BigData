{
 "cells": [
  {
   "cell_type": "code",
   "execution_count": 1,
   "metadata": {},
   "outputs": [],
   "source": [
    "# %pip install pyspark\n",
    "# %pip install pandas\n"
   ]
  },
  {
   "cell_type": "code",
   "execution_count": 1,
   "metadata": {},
   "outputs": [
    {
     "data": {
      "text/html": [
       "<div>\n",
       "<style scoped>\n",
       "    .dataframe tbody tr th:only-of-type {\n",
       "        vertical-align: middle;\n",
       "    }\n",
       "\n",
       "    .dataframe tbody tr th {\n",
       "        vertical-align: top;\n",
       "    }\n",
       "\n",
       "    .dataframe thead th {\n",
       "        text-align: right;\n",
       "    }\n",
       "</style>\n",
       "<table border=\"1\" class=\"dataframe\">\n",
       "  <thead>\n",
       "    <tr style=\"text-align: right;\">\n",
       "      <th></th>\n",
       "      <th>name</th>\n",
       "      <th>album</th>\n",
       "      <th>release_date</th>\n",
       "      <th>track_number</th>\n",
       "      <th>uri</th>\n",
       "      <th>acousticness</th>\n",
       "      <th>danceability</th>\n",
       "      <th>energy</th>\n",
       "      <th>instrumentalness</th>\n",
       "      <th>liveness</th>\n",
       "      <th>loudness</th>\n",
       "      <th>speechiness</th>\n",
       "      <th>tempo</th>\n",
       "      <th>valence</th>\n",
       "      <th>popularity</th>\n",
       "      <th>duration_ms</th>\n",
       "    </tr>\n",
       "  </thead>\n",
       "  <tbody>\n",
       "    <tr>\n",
       "      <th>0</th>\n",
       "      <td>Concert Intro Music - Live</td>\n",
       "      <td>Licked Live In NYC</td>\n",
       "      <td>10-06-2022</td>\n",
       "      <td>1</td>\n",
       "      <td>spotify:track:2IEkywLJ4ykbhi1yRQvmsT</td>\n",
       "      <td>0.0824</td>\n",
       "      <td>0.463</td>\n",
       "      <td>0.993</td>\n",
       "      <td>0.996000</td>\n",
       "      <td>0.9320</td>\n",
       "      <td>-12.913</td>\n",
       "      <td>0.1100</td>\n",
       "      <td>118.001</td>\n",
       "      <td>0.0302</td>\n",
       "      <td>33</td>\n",
       "      <td>48640</td>\n",
       "    </tr>\n",
       "    <tr>\n",
       "      <th>1</th>\n",
       "      <td>Street Fighting Man - Live</td>\n",
       "      <td>Licked Live In NYC</td>\n",
       "      <td>10-06-2022</td>\n",
       "      <td>2</td>\n",
       "      <td>spotify:track:6GVgVJBKkGJoRfarYRvGTU</td>\n",
       "      <td>0.4370</td>\n",
       "      <td>0.326</td>\n",
       "      <td>0.965</td>\n",
       "      <td>0.233000</td>\n",
       "      <td>0.9610</td>\n",
       "      <td>-4.803</td>\n",
       "      <td>0.0759</td>\n",
       "      <td>131.455</td>\n",
       "      <td>0.3180</td>\n",
       "      <td>34</td>\n",
       "      <td>253173</td>\n",
       "    </tr>\n",
       "    <tr>\n",
       "      <th>2</th>\n",
       "      <td>Start Me Up - Live</td>\n",
       "      <td>Licked Live In NYC</td>\n",
       "      <td>10-06-2022</td>\n",
       "      <td>3</td>\n",
       "      <td>spotify:track:1Lu761pZ0dBTGpzxaQoZNW</td>\n",
       "      <td>0.4160</td>\n",
       "      <td>0.386</td>\n",
       "      <td>0.969</td>\n",
       "      <td>0.400000</td>\n",
       "      <td>0.9560</td>\n",
       "      <td>-4.936</td>\n",
       "      <td>0.1150</td>\n",
       "      <td>130.066</td>\n",
       "      <td>0.3130</td>\n",
       "      <td>34</td>\n",
       "      <td>263160</td>\n",
       "    </tr>\n",
       "    <tr>\n",
       "      <th>3</th>\n",
       "      <td>If You Can't Rock Me - Live</td>\n",
       "      <td>Licked Live In NYC</td>\n",
       "      <td>10-06-2022</td>\n",
       "      <td>4</td>\n",
       "      <td>spotify:track:1agTQzOTUnGNggyckEqiDH</td>\n",
       "      <td>0.5670</td>\n",
       "      <td>0.369</td>\n",
       "      <td>0.985</td>\n",
       "      <td>0.000107</td>\n",
       "      <td>0.8950</td>\n",
       "      <td>-5.535</td>\n",
       "      <td>0.1930</td>\n",
       "      <td>132.994</td>\n",
       "      <td>0.1470</td>\n",
       "      <td>32</td>\n",
       "      <td>305880</td>\n",
       "    </tr>\n",
       "    <tr>\n",
       "      <th>4</th>\n",
       "      <td>Don’t Stop - Live</td>\n",
       "      <td>Licked Live In NYC</td>\n",
       "      <td>10-06-2022</td>\n",
       "      <td>5</td>\n",
       "      <td>spotify:track:7piGJR8YndQBQWVXv6KtQw</td>\n",
       "      <td>0.4000</td>\n",
       "      <td>0.303</td>\n",
       "      <td>0.969</td>\n",
       "      <td>0.055900</td>\n",
       "      <td>0.9660</td>\n",
       "      <td>-5.098</td>\n",
       "      <td>0.0930</td>\n",
       "      <td>130.533</td>\n",
       "      <td>0.2060</td>\n",
       "      <td>32</td>\n",
       "      <td>305106</td>\n",
       "    </tr>\n",
       "    <tr>\n",
       "      <th>...</th>\n",
       "      <td>...</td>\n",
       "      <td>...</td>\n",
       "      <td>...</td>\n",
       "      <td>...</td>\n",
       "      <td>...</td>\n",
       "      <td>...</td>\n",
       "      <td>...</td>\n",
       "      <td>...</td>\n",
       "      <td>...</td>\n",
       "      <td>...</td>\n",
       "      <td>...</td>\n",
       "      <td>...</td>\n",
       "      <td>...</td>\n",
       "      <td>...</td>\n",
       "      <td>...</td>\n",
       "      <td>...</td>\n",
       "    </tr>\n",
       "    <tr>\n",
       "      <th>1605</th>\n",
       "      <td>Carol</td>\n",
       "      <td>The Rolling Stones</td>\n",
       "      <td>16-04-1964</td>\n",
       "      <td>8</td>\n",
       "      <td>spotify:track:08l7M5UpRnffGl0FyuRiQZ</td>\n",
       "      <td>0.1570</td>\n",
       "      <td>0.466</td>\n",
       "      <td>0.932</td>\n",
       "      <td>0.006170</td>\n",
       "      <td>0.3240</td>\n",
       "      <td>-9.214</td>\n",
       "      <td>0.0429</td>\n",
       "      <td>177.340</td>\n",
       "      <td>0.9670</td>\n",
       "      <td>39</td>\n",
       "      <td>154080</td>\n",
       "    </tr>\n",
       "    <tr>\n",
       "      <th>1606</th>\n",
       "      <td>Tell Me</td>\n",
       "      <td>The Rolling Stones</td>\n",
       "      <td>16-04-1964</td>\n",
       "      <td>9</td>\n",
       "      <td>spotify:track:3JZllQBsTM6WwoJdzFDLhx</td>\n",
       "      <td>0.0576</td>\n",
       "      <td>0.509</td>\n",
       "      <td>0.706</td>\n",
       "      <td>0.000002</td>\n",
       "      <td>0.5160</td>\n",
       "      <td>-9.427</td>\n",
       "      <td>0.0843</td>\n",
       "      <td>122.015</td>\n",
       "      <td>0.4460</td>\n",
       "      <td>36</td>\n",
       "      <td>245266</td>\n",
       "    </tr>\n",
       "    <tr>\n",
       "      <th>1607</th>\n",
       "      <td>Can I Get A Witness</td>\n",
       "      <td>The Rolling Stones</td>\n",
       "      <td>16-04-1964</td>\n",
       "      <td>10</td>\n",
       "      <td>spotify:track:0t2qvfSBQ3Y08lzRRoVTdb</td>\n",
       "      <td>0.3710</td>\n",
       "      <td>0.790</td>\n",
       "      <td>0.774</td>\n",
       "      <td>0.000000</td>\n",
       "      <td>0.0669</td>\n",
       "      <td>-7.961</td>\n",
       "      <td>0.0720</td>\n",
       "      <td>97.035</td>\n",
       "      <td>0.8350</td>\n",
       "      <td>30</td>\n",
       "      <td>176080</td>\n",
       "    </tr>\n",
       "    <tr>\n",
       "      <th>1608</th>\n",
       "      <td>You Can Make It If You Try</td>\n",
       "      <td>The Rolling Stones</td>\n",
       "      <td>16-04-1964</td>\n",
       "      <td>11</td>\n",
       "      <td>spotify:track:5ivIs5vwSj0RChOIvlY3On</td>\n",
       "      <td>0.2170</td>\n",
       "      <td>0.700</td>\n",
       "      <td>0.546</td>\n",
       "      <td>0.000070</td>\n",
       "      <td>0.1660</td>\n",
       "      <td>-9.567</td>\n",
       "      <td>0.0622</td>\n",
       "      <td>102.634</td>\n",
       "      <td>0.5320</td>\n",
       "      <td>27</td>\n",
       "      <td>121680</td>\n",
       "    </tr>\n",
       "    <tr>\n",
       "      <th>1609</th>\n",
       "      <td>Walking The Dog</td>\n",
       "      <td>The Rolling Stones</td>\n",
       "      <td>16-04-1964</td>\n",
       "      <td>12</td>\n",
       "      <td>spotify:track:43SkTJJ2xleDaeiE4TIM70</td>\n",
       "      <td>0.3830</td>\n",
       "      <td>0.727</td>\n",
       "      <td>0.934</td>\n",
       "      <td>0.068500</td>\n",
       "      <td>0.0965</td>\n",
       "      <td>-8.373</td>\n",
       "      <td>0.0359</td>\n",
       "      <td>125.275</td>\n",
       "      <td>0.9690</td>\n",
       "      <td>35</td>\n",
       "      <td>189186</td>\n",
       "    </tr>\n",
       "  </tbody>\n",
       "</table>\n",
       "<p>1610 rows × 16 columns</p>\n",
       "</div>"
      ],
      "text/plain": [
       "                             name               album release_date  \\\n",
       "0      Concert Intro Music - Live  Licked Live In NYC   10-06-2022   \n",
       "1      Street Fighting Man - Live  Licked Live In NYC   10-06-2022   \n",
       "2              Start Me Up - Live  Licked Live In NYC   10-06-2022   \n",
       "3     If You Can't Rock Me - Live  Licked Live In NYC   10-06-2022   \n",
       "4               Don’t Stop - Live  Licked Live In NYC   10-06-2022   \n",
       "...                           ...                 ...          ...   \n",
       "1605                        Carol  The Rolling Stones   16-04-1964   \n",
       "1606                      Tell Me  The Rolling Stones   16-04-1964   \n",
       "1607          Can I Get A Witness  The Rolling Stones   16-04-1964   \n",
       "1608   You Can Make It If You Try  The Rolling Stones   16-04-1964   \n",
       "1609              Walking The Dog  The Rolling Stones   16-04-1964   \n",
       "\n",
       "      track_number                                   uri  acousticness  \\\n",
       "0                1  spotify:track:2IEkywLJ4ykbhi1yRQvmsT        0.0824   \n",
       "1                2  spotify:track:6GVgVJBKkGJoRfarYRvGTU        0.4370   \n",
       "2                3  spotify:track:1Lu761pZ0dBTGpzxaQoZNW        0.4160   \n",
       "3                4  spotify:track:1agTQzOTUnGNggyckEqiDH        0.5670   \n",
       "4                5  spotify:track:7piGJR8YndQBQWVXv6KtQw        0.4000   \n",
       "...            ...                                   ...           ...   \n",
       "1605             8  spotify:track:08l7M5UpRnffGl0FyuRiQZ        0.1570   \n",
       "1606             9  spotify:track:3JZllQBsTM6WwoJdzFDLhx        0.0576   \n",
       "1607            10  spotify:track:0t2qvfSBQ3Y08lzRRoVTdb        0.3710   \n",
       "1608            11  spotify:track:5ivIs5vwSj0RChOIvlY3On        0.2170   \n",
       "1609            12  spotify:track:43SkTJJ2xleDaeiE4TIM70        0.3830   \n",
       "\n",
       "      danceability  energy  instrumentalness  liveness  loudness  speechiness  \\\n",
       "0            0.463   0.993          0.996000    0.9320   -12.913       0.1100   \n",
       "1            0.326   0.965          0.233000    0.9610    -4.803       0.0759   \n",
       "2            0.386   0.969          0.400000    0.9560    -4.936       0.1150   \n",
       "3            0.369   0.985          0.000107    0.8950    -5.535       0.1930   \n",
       "4            0.303   0.969          0.055900    0.9660    -5.098       0.0930   \n",
       "...            ...     ...               ...       ...       ...          ...   \n",
       "1605         0.466   0.932          0.006170    0.3240    -9.214       0.0429   \n",
       "1606         0.509   0.706          0.000002    0.5160    -9.427       0.0843   \n",
       "1607         0.790   0.774          0.000000    0.0669    -7.961       0.0720   \n",
       "1608         0.700   0.546          0.000070    0.1660    -9.567       0.0622   \n",
       "1609         0.727   0.934          0.068500    0.0965    -8.373       0.0359   \n",
       "\n",
       "        tempo  valence  popularity  duration_ms  \n",
       "0     118.001   0.0302          33        48640  \n",
       "1     131.455   0.3180          34       253173  \n",
       "2     130.066   0.3130          34       263160  \n",
       "3     132.994   0.1470          32       305880  \n",
       "4     130.533   0.2060          32       305106  \n",
       "...       ...      ...         ...          ...  \n",
       "1605  177.340   0.9670          39       154080  \n",
       "1606  122.015   0.4460          36       245266  \n",
       "1607   97.035   0.8350          30       176080  \n",
       "1608  102.634   0.5320          27       121680  \n",
       "1609  125.275   0.9690          35       189186  \n",
       "\n",
       "[1610 rows x 16 columns]"
      ]
     },
     "execution_count": 1,
     "metadata": {},
     "output_type": "execute_result"
    }
   ],
   "source": [
    "import pandas as pd\n",
    "data=pd.read_csv(\"D:/Programming/Pyspark-BigData/rolling_stones_spotify.csv\")\n",
    "data"
   ]
  },
  {
   "cell_type": "code",
   "execution_count": 2,
   "metadata": {},
   "outputs": [],
   "source": [
    "import pyspark\n",
    "from pyspark.sql import SparkSession\n"
   ]
  },
  {
   "cell_type": "code",
   "execution_count": 3,
   "metadata": {},
   "outputs": [],
   "source": [
    "spark = SparkSession.builder.appName('pratice').getOrCreate()"
   ]
  },
  {
   "cell_type": "code",
   "execution_count": 4,
   "metadata": {},
   "outputs": [
    {
     "data": {
      "text/html": [
       "\n",
       "            <div>\n",
       "                <p><b>SparkSession - in-memory</b></p>\n",
       "                \n",
       "        <div>\n",
       "            <p><b>SparkContext</b></p>\n",
       "\n",
       "            <p><a href=\"http://192.168.1.11:4040\">Spark UI</a></p>\n",
       "\n",
       "            <dl>\n",
       "              <dt>Version</dt>\n",
       "                <dd><code>v3.3.1</code></dd>\n",
       "              <dt>Master</dt>\n",
       "                <dd><code>local[*]</code></dd>\n",
       "              <dt>AppName</dt>\n",
       "                <dd><code>pratice</code></dd>\n",
       "            </dl>\n",
       "        </div>\n",
       "        \n",
       "            </div>\n",
       "        "
      ],
      "text/plain": [
       "<pyspark.sql.session.SparkSession at 0x150ed015180>"
      ]
     },
     "execution_count": 4,
     "metadata": {},
     "output_type": "execute_result"
    }
   ],
   "source": [
    "spark"
   ]
  },
  {
   "cell_type": "code",
   "execution_count": 5,
   "metadata": {},
   "outputs": [
    {
     "name": "stdout",
     "output_type": "stream",
     "text": [
      "+--------------------+------------------+------------+------------+--------------------+------------+------------+------+----------------+--------+--------+-----------+-------+-------+----------+-----------+\n",
      "|                name|             album|release_date|track_number|                 uri|acousticness|danceability|energy|instrumentalness|liveness|loudness|speechiness|  tempo|valence|popularity|duration_ms|\n",
      "+--------------------+------------------+------------+------------+--------------------+------------+------------+------+----------------+--------+--------+-----------+-------+-------+----------+-----------+\n",
      "|Concert Intro Mus...|Licked Live In NYC|  10-06-2022|           1|spotify:track:2IE...|      0.0824|       0.463| 0.993|           0.996|   0.932| -12.913|       0.11|118.001| 0.0302|        33|      48640|\n",
      "|Street Fighting M...|Licked Live In NYC|  10-06-2022|           2|spotify:track:6GV...|       0.437|       0.326| 0.965|           0.233|   0.961|  -4.803|     0.0759|131.455|  0.318|        34|     253173|\n",
      "|  Start Me Up - Live|Licked Live In NYC|  10-06-2022|           3|spotify:track:1Lu...|       0.416|       0.386| 0.969|             0.4|   0.956|  -4.936|      0.115|130.066|  0.313|        34|     263160|\n",
      "|If You Can't Rock...|Licked Live In NYC|  10-06-2022|           4|spotify:track:1ag...|       0.567|       0.369| 0.985|        0.000107|   0.895|  -5.535|      0.193|132.994|  0.147|        32|     305880|\n",
      "|   Don’t Stop - Live|Licked Live In NYC|  10-06-2022|           5|spotify:track:7pi...|         0.4|       0.303| 0.969|          0.0559|   0.966|  -5.098|      0.093|130.533|  0.206|        32|     305106|\n",
      "|   Monkey Man - Live|Licked Live In NYC|  10-06-2022|           6|spotify:track:3ix...|       0.275|        0.34| 0.956|           0.125|   0.741|  -5.539|     0.0915|101.628|  0.125|        31|     244293|\n",
      "|        Angie - Live|Licked Live In NYC|  10-06-2022|           7|spotify:track:3R1...|       0.561|       0.262|  0.81|        2.76E-06|   0.972|  -6.851|     0.0969|  77.52|  0.394|        31|     245506|\n",
      "| Let It Bleed - Live|Licked Live In NYC|  10-06-2022|           8|spotify:track:0TG...|        null|       0.413| 0.971|        0.000267|   0.993|  -5.509|     0.0873|128.958|  0.484|        30|     313586|\n",
      "|Midnight Rambler ...|Licked Live In NYC|  10-06-2022|           9|spotify:track:643...|       0.416|        null| 0.942|          0.0408|   0.959|  -6.018|      0.119|139.452|  0.285|        30|     781173|\n",
      "|Tumbling Dice - Live|Licked Live In NYC|  10-06-2022|          10|spotify:track:5NM...|       0.401|        0.31| 0.944|          0.0752|   0.974|  -5.074|      0.128|119.782|  0.188|        29|     333413|\n",
      "|Band Introduction...|Licked Live In NYC|  10-06-2022|          11|spotify:track:06K...|       0.732|       0.262| 0.939|         0.00952|   0.936|  -9.269|      0.222|  79.42| 0.0317|        27|     284426|\n",
      "|Thru And Thru - Live|Licked Live In NYC|  10-06-2022|          12|spotify:track:1rX...|       0.672|       0.278| 0.651|        0.000425|   0.893|  -7.024|     0.0553| 95.853|  0.334|        27|     432360|\n",
      "|        Happy - Live|Licked Live In NYC|  10-06-2022|          13|spotify:track:0qr...|       0.473|       0.322| 0.947|           0.163|   0.955|   -4.12|     0.0602|136.149|  0.498|        27|     222560|\n",
      "|Gimme Shelter - Live|Licked Live In NYC|  10-06-2022|          14|spotify:track:3Dv...|       0.423|        0.36|  0.98|         0.00219|    0.98|  -5.104|      0.104|119.779|  0.136|        28|     430426|\n",
      "|You Got Me Rockin...|Licked Live In NYC|  10-06-2022|          15|spotify:track:2aN...|        0.32|       0.388| 0.974|          0.0955|   0.966|  -4.982|     0.0974|128.486|  0.166|        26|     227546|\n",
      "|Can't You Hear Me...|Licked Live In NYC|  10-06-2022|          16|spotify:track:2hy...|       0.435|       0.401| 0.921|          0.0366|   0.976|  -5.664|     0.0517|144.848|  0.734|        27|     667986|\n",
      "|Honky Tonk Women ...|Licked Live In NYC|  10-06-2022|          17|spotify:track:3na...|       0.536|       0.401|  0.94|         0.00183|   0.937|  -4.858|     0.0928|112.304|  0.342|        27|     301106|\n",
      "| Satisfaction - Live|Licked Live In NYC|  10-06-2022|          18|spotify:track:6oM...|         0.5|        null| 0.979|           0.309|   0.969|  -4.472|     0.0906|142.464|   0.24|        28|     371133|\n",
      "|It's Only Rock 'N...|Licked Live In NYC|  10-06-2022|          19|spotify:track:1Wk...|       0.675|       0.378| 0.986|           0.621|   0.971|  -5.232|     0.0833|140.253|  0.436|        25|     303960|\n",
      "|When The Whip Com...|Licked Live In NYC|  10-06-2022|          20|spotify:track:4hT...|       0.336|       0.292| 0.986|           0.282|   0.975|  -5.827|      0.131|149.383|  0.179|        24|     291093|\n",
      "+--------------------+------------------+------------+------------+--------------------+------------+------------+------+----------------+--------+--------+-----------+-------+-------+----------+-----------+\n",
      "only showing top 20 rows\n",
      "\n"
     ]
    }
   ],
   "source": [
    "data_spark = spark.read.csv('D:/Programming/Pyspark-BigData/rolling_stones_spotify.csv')\n",
    "data_spark=spark.read.option('header','true').csv('rolling_stones_spotify.csv')\n",
    "data_spark.show()"
   ]
  },
  {
   "cell_type": "code",
   "execution_count": 6,
   "metadata": {},
   "outputs": [
    {
     "data": {
      "text/plain": [
       "pyspark.sql.dataframe.DataFrame"
      ]
     },
     "execution_count": 6,
     "metadata": {},
     "output_type": "execute_result"
    }
   ],
   "source": [
    "type(data_spark)"
   ]
  },
  {
   "cell_type": "code",
   "execution_count": 7,
   "metadata": {},
   "outputs": [
    {
     "data": {
      "text/plain": [
       "[Row(name='Concert Intro Music - Live', album='Licked Live In NYC', release_date='10-06-2022', track_number='1', uri='spotify:track:2IEkywLJ4ykbhi1yRQvmsT', acousticness='0.0824', danceability='0.463', energy='0.993', instrumentalness='0.996', liveness='0.932', loudness='-12.913', speechiness='0.11', tempo='118.001', valence='0.0302', popularity='33', duration_ms='48640'),\n",
       " Row(name='Street Fighting Man - Live', album='Licked Live In NYC', release_date='10-06-2022', track_number='2', uri='spotify:track:6GVgVJBKkGJoRfarYRvGTU', acousticness='0.437', danceability='0.326', energy='0.965', instrumentalness='0.233', liveness='0.961', loudness='-4.803', speechiness='0.0759', tempo='131.455', valence='0.318', popularity='34', duration_ms='253173'),\n",
       " Row(name='Start Me Up - Live', album='Licked Live In NYC', release_date='10-06-2022', track_number='3', uri='spotify:track:1Lu761pZ0dBTGpzxaQoZNW', acousticness='0.416', danceability='0.386', energy='0.969', instrumentalness='0.4', liveness='0.956', loudness='-4.936', speechiness='0.115', tempo='130.066', valence='0.313', popularity='34', duration_ms='263160'),\n",
       " Row(name=\"If You Can't Rock Me - Live\", album='Licked Live In NYC', release_date='10-06-2022', track_number='4', uri='spotify:track:1agTQzOTUnGNggyckEqiDH', acousticness='0.567', danceability='0.369', energy='0.985', instrumentalness='0.000107', liveness='0.895', loudness='-5.535', speechiness='0.193', tempo='132.994', valence='0.147', popularity='32', duration_ms='305880'),\n",
       " Row(name='Don’t Stop - Live', album='Licked Live In NYC', release_date='10-06-2022', track_number='5', uri='spotify:track:7piGJR8YndQBQWVXv6KtQw', acousticness='0.4', danceability='0.303', energy='0.969', instrumentalness='0.0559', liveness='0.966', loudness='-5.098', speechiness='0.093', tempo='130.533', valence='0.206', popularity='32', duration_ms='305106')]"
      ]
     },
     "execution_count": 7,
     "metadata": {},
     "output_type": "execute_result"
    }
   ],
   "source": [
    "data_spark.head(5)"
   ]
  },
  {
   "cell_type": "code",
   "execution_count": 8,
   "metadata": {},
   "outputs": [
    {
     "name": "stdout",
     "output_type": "stream",
     "text": [
      "root\n",
      " |-- name: string (nullable = true)\n",
      " |-- album: string (nullable = true)\n",
      " |-- release_date: string (nullable = true)\n",
      " |-- track_number: string (nullable = true)\n",
      " |-- uri: string (nullable = true)\n",
      " |-- acousticness: string (nullable = true)\n",
      " |-- danceability: string (nullable = true)\n",
      " |-- energy: string (nullable = true)\n",
      " |-- instrumentalness: string (nullable = true)\n",
      " |-- liveness: string (nullable = true)\n",
      " |-- loudness: string (nullable = true)\n",
      " |-- speechiness: string (nullable = true)\n",
      " |-- tempo: string (nullable = true)\n",
      " |-- valence: string (nullable = true)\n",
      " |-- popularity: string (nullable = true)\n",
      " |-- duration_ms: string (nullable = true)\n",
      "\n"
     ]
    }
   ],
   "source": [
    "data_spark.printSchema()"
   ]
  },
  {
   "attachments": {},
   "cell_type": "markdown",
   "metadata": {},
   "source": [
    "## PySpark DataFrame part-1"
   ]
  },
  {
   "cell_type": "code",
   "execution_count": 9,
   "metadata": {},
   "outputs": [],
   "source": [
    "from pyspark.sql import SparkSession"
   ]
  },
  {
   "cell_type": "code",
   "execution_count": 10,
   "metadata": {},
   "outputs": [],
   "source": [
    "spark =SparkSession.builder.appName('DataFrame').getOrCreate()"
   ]
  },
  {
   "cell_type": "code",
   "execution_count": 11,
   "metadata": {},
   "outputs": [
    {
     "data": {
      "text/html": [
       "\n",
       "            <div>\n",
       "                <p><b>SparkSession - in-memory</b></p>\n",
       "                \n",
       "        <div>\n",
       "            <p><b>SparkContext</b></p>\n",
       "\n",
       "            <p><a href=\"http://192.168.1.11:4040\">Spark UI</a></p>\n",
       "\n",
       "            <dl>\n",
       "              <dt>Version</dt>\n",
       "                <dd><code>v3.3.1</code></dd>\n",
       "              <dt>Master</dt>\n",
       "                <dd><code>local[*]</code></dd>\n",
       "              <dt>AppName</dt>\n",
       "                <dd><code>pratice</code></dd>\n",
       "            </dl>\n",
       "        </div>\n",
       "        \n",
       "            </div>\n",
       "        "
      ],
      "text/plain": [
       "<pyspark.sql.session.SparkSession at 0x150ed015180>"
      ]
     },
     "execution_count": 11,
     "metadata": {},
     "output_type": "execute_result"
    }
   ],
   "source": [
    "spark"
   ]
  },
  {
   "cell_type": "code",
   "execution_count": 12,
   "metadata": {},
   "outputs": [],
   "source": [
    "## read the Dataset\n",
    "df_pyspark=spark.read.option('header','true').csv('./rolling_stones_spotify.csv',inferSchema=True)"
   ]
  },
  {
   "cell_type": "code",
   "execution_count": 13,
   "metadata": {},
   "outputs": [
    {
     "name": "stdout",
     "output_type": "stream",
     "text": [
      "root\n",
      " |-- name: string (nullable = true)\n",
      " |-- album: string (nullable = true)\n",
      " |-- release_date: string (nullable = true)\n",
      " |-- track_number: integer (nullable = true)\n",
      " |-- uri: string (nullable = true)\n",
      " |-- acousticness: double (nullable = true)\n",
      " |-- danceability: double (nullable = true)\n",
      " |-- energy: double (nullable = true)\n",
      " |-- instrumentalness: double (nullable = true)\n",
      " |-- liveness: double (nullable = true)\n",
      " |-- loudness: double (nullable = true)\n",
      " |-- speechiness: double (nullable = true)\n",
      " |-- tempo: double (nullable = true)\n",
      " |-- valence: double (nullable = true)\n",
      " |-- popularity: integer (nullable = true)\n",
      " |-- duration_ms: integer (nullable = true)\n",
      "\n"
     ]
    }
   ],
   "source": [
    "# check the schema like df.info\n",
    "\n",
    "df_pyspark.printSchema()"
   ]
  },
  {
   "cell_type": "code",
   "execution_count": 14,
   "metadata": {},
   "outputs": [
    {
     "data": {
      "text/plain": [
       "pyspark.sql.dataframe.DataFrame"
      ]
     },
     "execution_count": 14,
     "metadata": {},
     "output_type": "execute_result"
    }
   ],
   "source": [
    "type(df_pyspark)"
   ]
  },
  {
   "cell_type": "code",
   "execution_count": 15,
   "metadata": {},
   "outputs": [
    {
     "data": {
      "text/plain": [
       "['name',\n",
       " 'album',\n",
       " 'release_date',\n",
       " 'track_number',\n",
       " 'uri',\n",
       " 'acousticness',\n",
       " 'danceability',\n",
       " 'energy',\n",
       " 'instrumentalness',\n",
       " 'liveness',\n",
       " 'loudness',\n",
       " 'speechiness',\n",
       " 'tempo',\n",
       " 'valence',\n",
       " 'popularity',\n",
       " 'duration_ms']"
      ]
     },
     "execution_count": 15,
     "metadata": {},
     "output_type": "execute_result"
    }
   ],
   "source": [
    "df_pyspark.columns"
   ]
  },
  {
   "cell_type": "code",
   "execution_count": 16,
   "metadata": {},
   "outputs": [
    {
     "data": {
      "text/plain": [
       "[Row(name='Concert Intro Music - Live', album='Licked Live In NYC', release_date='10-06-2022', track_number=1, uri='spotify:track:2IEkywLJ4ykbhi1yRQvmsT', acousticness=0.0824, danceability=0.463, energy=0.993, instrumentalness=0.996, liveness=0.932, loudness=-12.913, speechiness=0.11, tempo=118.001, valence=0.0302, popularity=33, duration_ms=48640),\n",
       " Row(name='Street Fighting Man - Live', album='Licked Live In NYC', release_date='10-06-2022', track_number=2, uri='spotify:track:6GVgVJBKkGJoRfarYRvGTU', acousticness=0.437, danceability=0.326, energy=0.965, instrumentalness=0.233, liveness=0.961, loudness=-4.803, speechiness=0.0759, tempo=131.455, valence=0.318, popularity=34, duration_ms=253173),\n",
       " Row(name='Start Me Up - Live', album='Licked Live In NYC', release_date='10-06-2022', track_number=3, uri='spotify:track:1Lu761pZ0dBTGpzxaQoZNW', acousticness=0.416, danceability=0.386, energy=0.969, instrumentalness=0.4, liveness=0.956, loudness=-4.936, speechiness=0.115, tempo=130.066, valence=0.313, popularity=34, duration_ms=263160)]"
      ]
     },
     "execution_count": 16,
     "metadata": {},
     "output_type": "execute_result"
    }
   ],
   "source": [
    "df_pyspark.head(3)"
   ]
  },
  {
   "cell_type": "code",
   "execution_count": 17,
   "metadata": {},
   "outputs": [
    {
     "name": "stdout",
     "output_type": "stream",
     "text": [
      "+--------------------+--------+\n",
      "|                name|loudness|\n",
      "+--------------------+--------+\n",
      "|Concert Intro Mus...| -12.913|\n",
      "|Street Fighting M...|  -4.803|\n",
      "|  Start Me Up - Live|  -4.936|\n",
      "|If You Can't Rock...|  -5.535|\n",
      "|   Don’t Stop - Live|  -5.098|\n",
      "|   Monkey Man - Live|  -5.539|\n",
      "|        Angie - Live|  -6.851|\n",
      "| Let It Bleed - Live|  -5.509|\n",
      "|Midnight Rambler ...|  -6.018|\n",
      "|Tumbling Dice - Live|  -5.074|\n",
      "|Band Introduction...|  -9.269|\n",
      "|Thru And Thru - Live|  -7.024|\n",
      "|        Happy - Live|   -4.12|\n",
      "|Gimme Shelter - Live|  -5.104|\n",
      "|You Got Me Rockin...|  -4.982|\n",
      "|Can't You Hear Me...|  -5.664|\n",
      "|Honky Tonk Women ...|  -4.858|\n",
      "| Satisfaction - Live|  -4.472|\n",
      "|It's Only Rock 'N...|  -5.232|\n",
      "|When The Whip Com...|  -5.827|\n",
      "+--------------------+--------+\n",
      "only showing top 20 rows\n",
      "\n"
     ]
    }
   ],
   "source": [
    "df_pyspark.select(['name','loudness']).show()"
   ]
  },
  {
   "cell_type": "code",
   "execution_count": 18,
   "metadata": {},
   "outputs": [
    {
     "data": {
      "text/plain": [
       "[('name', 'string'),\n",
       " ('album', 'string'),\n",
       " ('release_date', 'string'),\n",
       " ('track_number', 'int'),\n",
       " ('uri', 'string'),\n",
       " ('acousticness', 'double'),\n",
       " ('danceability', 'double'),\n",
       " ('energy', 'double'),\n",
       " ('instrumentalness', 'double'),\n",
       " ('liveness', 'double'),\n",
       " ('loudness', 'double'),\n",
       " ('speechiness', 'double'),\n",
       " ('tempo', 'double'),\n",
       " ('valence', 'double'),\n",
       " ('popularity', 'int'),\n",
       " ('duration_ms', 'int')]"
      ]
     },
     "execution_count": 18,
     "metadata": {},
     "output_type": "execute_result"
    }
   ],
   "source": [
    "df_pyspark.dtypes"
   ]
  },
  {
   "cell_type": "code",
   "execution_count": 19,
   "metadata": {},
   "outputs": [
    {
     "name": "stdout",
     "output_type": "stream",
     "text": [
      "+-------+--------------------+--------------------+------------+-----------------+--------------------+-------------------+-------------------+-------------------+-------------------+------------------+------------------+--------------------+------------------+-------------------+------------------+------------------+\n",
      "|summary|                name|               album|release_date|     track_number|                 uri|       acousticness|       danceability|             energy|   instrumentalness|          liveness|          loudness|         speechiness|             tempo|            valence|        popularity|       duration_ms|\n",
      "+-------+--------------------+--------------------+------------+-----------------+--------------------+-------------------+-------------------+-------------------+-------------------+------------------+------------------+--------------------+------------------+-------------------+------------------+------------------+\n",
      "|  count|                1610|                1610|        1610|             1610|                1610|               1609|               1605|               1610|               1610|              1610|              1610|                1610|              1610|               1610|              1610|              1610|\n",
      "|   mean|                null|                null|        null|8.613664596273292|                null| 0.2504334191733994| 0.4692168224299068| 0.7923521739130428|0.16416977908695662|0.4917296273291928|-6.971614906832278| 0.06951242236024845|126.08203291925437| 0.5821654658385094|20.788198757763976|257736.48819875775|\n",
      "| stddev|                null|                null|        null|6.560219653419205|                null|0.22746153575771139|0.14176300106144288|0.17988583030268476| 0.2762487405581574| 0.349099611596946|2.9940026773280066|0.051631370585719004| 29.23348285620146|0.23125279788998415|12.426859374735496|108333.47492032828|\n",
      "|    min|\"Intro: Excerpt F...|              12 X 5|  01-06-1982|                1|spotify:track:00h...|            8.94E-6|              0.104|              0.141|                0.0|            0.0219|           -24.408|              0.0232|            46.525|                0.0|                 0|             21000|\n",
      "|    max|You’re Gonna Miss...|got LIVE if you w...|  31-08-1973|               47|spotify:track:7zJ...|              0.994|              0.887|              0.999|              0.996|             0.998|            -1.014|               0.624|           216.304|              0.974|                80|            981866|\n",
      "+-------+--------------------+--------------------+------------+-----------------+--------------------+-------------------+-------------------+-------------------+-------------------+------------------+------------------+--------------------+------------------+-------------------+------------------+------------------+\n",
      "\n"
     ]
    }
   ],
   "source": [
    "df_pyspark.describe().show()"
   ]
  },
  {
   "cell_type": "code",
   "execution_count": 20,
   "metadata": {},
   "outputs": [],
   "source": [
    "# Adding Columns in Data frame\n",
    "\n",
    "df_pyspark=df_pyspark.withColumn('loudness wit speechiness',df_pyspark['loudness']+df_pyspark['speechiness'])"
   ]
  },
  {
   "cell_type": "code",
   "execution_count": 21,
   "metadata": {},
   "outputs": [],
   "source": [
    "# df_pyspark.show()"
   ]
  },
  {
   "cell_type": "code",
   "execution_count": 22,
   "metadata": {},
   "outputs": [],
   "source": [
    "#removing column\n",
    "\n",
    "df_pyspark=df_pyspark.drop('loudness wit speechiness')"
   ]
  },
  {
   "cell_type": "code",
   "execution_count": 23,
   "metadata": {},
   "outputs": [],
   "source": [
    "# df_pyspark.show()"
   ]
  },
  {
   "cell_type": "code",
   "execution_count": 24,
   "metadata": {},
   "outputs": [],
   "source": [
    "## rename\n",
    "df_pyspark=df_pyspark.withColumnRenamed('name','new name')"
   ]
  },
  {
   "cell_type": "code",
   "execution_count": 25,
   "metadata": {},
   "outputs": [],
   "source": [
    "# df_pyspark.show()"
   ]
  },
  {
   "attachments": {},
   "cell_type": "markdown",
   "metadata": {},
   "source": [
    "## Data Frame Operations"
   ]
  },
  {
   "cell_type": "code",
   "execution_count": 26,
   "metadata": {},
   "outputs": [],
   "source": [
    "data =spark.read.csv('./rolling_stones_spotify.csv',header=True,inferSchema=True)"
   ]
  },
  {
   "cell_type": "code",
   "execution_count": 27,
   "metadata": {},
   "outputs": [
    {
     "name": "stdout",
     "output_type": "stream",
     "text": [
      "+--------------------+------------------+------------+------------+--------------------+------------+------------+------+----------------+--------+--------+-----------+-------+-------+----------+-----------+\n",
      "|                name|             album|release_date|track_number|                 uri|acousticness|danceability|energy|instrumentalness|liveness|loudness|speechiness|  tempo|valence|popularity|duration_ms|\n",
      "+--------------------+------------------+------------+------------+--------------------+------------+------------+------+----------------+--------+--------+-----------+-------+-------+----------+-----------+\n",
      "|Concert Intro Mus...|Licked Live In NYC|  10-06-2022|           1|spotify:track:2IE...|      0.0824|       0.463| 0.993|           0.996|   0.932| -12.913|       0.11|118.001| 0.0302|        33|      48640|\n",
      "|Street Fighting M...|Licked Live In NYC|  10-06-2022|           2|spotify:track:6GV...|       0.437|       0.326| 0.965|           0.233|   0.961|  -4.803|     0.0759|131.455|  0.318|        34|     253173|\n",
      "|  Start Me Up - Live|Licked Live In NYC|  10-06-2022|           3|spotify:track:1Lu...|       0.416|       0.386| 0.969|             0.4|   0.956|  -4.936|      0.115|130.066|  0.313|        34|     263160|\n",
      "|If You Can't Rock...|Licked Live In NYC|  10-06-2022|           4|spotify:track:1ag...|       0.567|       0.369| 0.985|         1.07E-4|   0.895|  -5.535|      0.193|132.994|  0.147|        32|     305880|\n",
      "|   Don’t Stop - Live|Licked Live In NYC|  10-06-2022|           5|spotify:track:7pi...|         0.4|       0.303| 0.969|          0.0559|   0.966|  -5.098|      0.093|130.533|  0.206|        32|     305106|\n",
      "|   Monkey Man - Live|Licked Live In NYC|  10-06-2022|           6|spotify:track:3ix...|       0.275|        0.34| 0.956|           0.125|   0.741|  -5.539|     0.0915|101.628|  0.125|        31|     244293|\n",
      "|        Angie - Live|Licked Live In NYC|  10-06-2022|           7|spotify:track:3R1...|       0.561|       0.262|  0.81|         2.76E-6|   0.972|  -6.851|     0.0969|  77.52|  0.394|        31|     245506|\n",
      "| Let It Bleed - Live|Licked Live In NYC|  10-06-2022|           8|spotify:track:0TG...|        null|       0.413| 0.971|         2.67E-4|   0.993|  -5.509|     0.0873|128.958|  0.484|        30|     313586|\n",
      "|Midnight Rambler ...|Licked Live In NYC|  10-06-2022|           9|spotify:track:643...|       0.416|        null| 0.942|          0.0408|   0.959|  -6.018|      0.119|139.452|  0.285|        30|     781173|\n",
      "|Tumbling Dice - Live|Licked Live In NYC|  10-06-2022|          10|spotify:track:5NM...|       0.401|        0.31| 0.944|          0.0752|   0.974|  -5.074|      0.128|119.782|  0.188|        29|     333413|\n",
      "|Band Introduction...|Licked Live In NYC|  10-06-2022|          11|spotify:track:06K...|       0.732|       0.262| 0.939|         0.00952|   0.936|  -9.269|      0.222|  79.42| 0.0317|        27|     284426|\n",
      "|Thru And Thru - Live|Licked Live In NYC|  10-06-2022|          12|spotify:track:1rX...|       0.672|       0.278| 0.651|         4.25E-4|   0.893|  -7.024|     0.0553| 95.853|  0.334|        27|     432360|\n",
      "|        Happy - Live|Licked Live In NYC|  10-06-2022|          13|spotify:track:0qr...|       0.473|       0.322| 0.947|           0.163|   0.955|   -4.12|     0.0602|136.149|  0.498|        27|     222560|\n",
      "|Gimme Shelter - Live|Licked Live In NYC|  10-06-2022|          14|spotify:track:3Dv...|       0.423|        0.36|  0.98|         0.00219|    0.98|  -5.104|      0.104|119.779|  0.136|        28|     430426|\n",
      "|You Got Me Rockin...|Licked Live In NYC|  10-06-2022|          15|spotify:track:2aN...|        0.32|       0.388| 0.974|          0.0955|   0.966|  -4.982|     0.0974|128.486|  0.166|        26|     227546|\n",
      "|Can't You Hear Me...|Licked Live In NYC|  10-06-2022|          16|spotify:track:2hy...|       0.435|       0.401| 0.921|          0.0366|   0.976|  -5.664|     0.0517|144.848|  0.734|        27|     667986|\n",
      "|Honky Tonk Women ...|Licked Live In NYC|  10-06-2022|          17|spotify:track:3na...|       0.536|       0.401|  0.94|         0.00183|   0.937|  -4.858|     0.0928|112.304|  0.342|        27|     301106|\n",
      "| Satisfaction - Live|Licked Live In NYC|  10-06-2022|          18|spotify:track:6oM...|         0.5|        null| 0.979|           0.309|   0.969|  -4.472|     0.0906|142.464|   0.24|        28|     371133|\n",
      "|It's Only Rock 'N...|Licked Live In NYC|  10-06-2022|          19|spotify:track:1Wk...|       0.675|       0.378| 0.986|           0.621|   0.971|  -5.232|     0.0833|140.253|  0.436|        25|     303960|\n",
      "|When The Whip Com...|Licked Live In NYC|  10-06-2022|          20|spotify:track:4hT...|       0.336|       0.292| 0.986|           0.282|   0.975|  -5.827|      0.131|149.383|  0.179|        24|     291093|\n",
      "+--------------------+------------------+------------+------------+--------------------+------------+------------+------+----------------+--------+--------+-----------+-------+-------+----------+-----------+\n",
      "only showing top 20 rows\n",
      "\n"
     ]
    }
   ],
   "source": [
    "data.show()"
   ]
  },
  {
   "cell_type": "code",
   "execution_count": 28,
   "metadata": {},
   "outputs": [
    {
     "name": "stdout",
     "output_type": "stream",
     "text": [
      "+--------------------+------------------+------------+------------+--------------------+------------+------------+------+----------------+--------+--------+-----------+-------+-------+----------+-----------+\n",
      "|                name|             album|release_date|track_number|                 uri|acousticness|danceability|energy|instrumentalness|liveness|loudness|speechiness|  tempo|valence|popularity|duration_ms|\n",
      "+--------------------+------------------+------------+------------+--------------------+------------+------------+------+----------------+--------+--------+-----------+-------+-------+----------+-----------+\n",
      "|Concert Intro Mus...|Licked Live In NYC|  10-06-2022|           1|spotify:track:2IE...|      0.0824|       0.463| 0.993|           0.996|   0.932| -12.913|       0.11|118.001| 0.0302|        33|      48640|\n",
      "|Street Fighting M...|Licked Live In NYC|  10-06-2022|           2|spotify:track:6GV...|       0.437|       0.326| 0.965|           0.233|   0.961|  -4.803|     0.0759|131.455|  0.318|        34|     253173|\n",
      "|  Start Me Up - Live|Licked Live In NYC|  10-06-2022|           3|spotify:track:1Lu...|       0.416|       0.386| 0.969|             0.4|   0.956|  -4.936|      0.115|130.066|  0.313|        34|     263160|\n",
      "|If You Can't Rock...|Licked Live In NYC|  10-06-2022|           4|spotify:track:1ag...|       0.567|       0.369| 0.985|         1.07E-4|   0.895|  -5.535|      0.193|132.994|  0.147|        32|     305880|\n",
      "|   Don’t Stop - Live|Licked Live In NYC|  10-06-2022|           5|spotify:track:7pi...|         0.4|       0.303| 0.969|          0.0559|   0.966|  -5.098|      0.093|130.533|  0.206|        32|     305106|\n",
      "|   Monkey Man - Live|Licked Live In NYC|  10-06-2022|           6|spotify:track:3ix...|       0.275|        0.34| 0.956|           0.125|   0.741|  -5.539|     0.0915|101.628|  0.125|        31|     244293|\n",
      "|        Angie - Live|Licked Live In NYC|  10-06-2022|           7|spotify:track:3R1...|       0.561|       0.262|  0.81|         2.76E-6|   0.972|  -6.851|     0.0969|  77.52|  0.394|        31|     245506|\n",
      "|Tumbling Dice - Live|Licked Live In NYC|  10-06-2022|          10|spotify:track:5NM...|       0.401|        0.31| 0.944|          0.0752|   0.974|  -5.074|      0.128|119.782|  0.188|        29|     333413|\n",
      "|Band Introduction...|Licked Live In NYC|  10-06-2022|          11|spotify:track:06K...|       0.732|       0.262| 0.939|         0.00952|   0.936|  -9.269|      0.222|  79.42| 0.0317|        27|     284426|\n",
      "|Thru And Thru - Live|Licked Live In NYC|  10-06-2022|          12|spotify:track:1rX...|       0.672|       0.278| 0.651|         4.25E-4|   0.893|  -7.024|     0.0553| 95.853|  0.334|        27|     432360|\n",
      "|        Happy - Live|Licked Live In NYC|  10-06-2022|          13|spotify:track:0qr...|       0.473|       0.322| 0.947|           0.163|   0.955|   -4.12|     0.0602|136.149|  0.498|        27|     222560|\n",
      "|Gimme Shelter - Live|Licked Live In NYC|  10-06-2022|          14|spotify:track:3Dv...|       0.423|        0.36|  0.98|         0.00219|    0.98|  -5.104|      0.104|119.779|  0.136|        28|     430426|\n",
      "|You Got Me Rockin...|Licked Live In NYC|  10-06-2022|          15|spotify:track:2aN...|        0.32|       0.388| 0.974|          0.0955|   0.966|  -4.982|     0.0974|128.486|  0.166|        26|     227546|\n",
      "|Can't You Hear Me...|Licked Live In NYC|  10-06-2022|          16|spotify:track:2hy...|       0.435|       0.401| 0.921|          0.0366|   0.976|  -5.664|     0.0517|144.848|  0.734|        27|     667986|\n",
      "|Honky Tonk Women ...|Licked Live In NYC|  10-06-2022|          17|spotify:track:3na...|       0.536|       0.401|  0.94|         0.00183|   0.937|  -4.858|     0.0928|112.304|  0.342|        27|     301106|\n",
      "|It's Only Rock 'N...|Licked Live In NYC|  10-06-2022|          19|spotify:track:1Wk...|       0.675|       0.378| 0.986|           0.621|   0.971|  -5.232|     0.0833|140.253|  0.436|        25|     303960|\n",
      "|When The Whip Com...|Licked Live In NYC|  10-06-2022|          20|spotify:track:4hT...|       0.336|       0.292| 0.986|           0.282|   0.975|  -5.827|      0.131|149.383|  0.179|        24|     291093|\n",
      "|  Brown Sugar - Live|Licked Live In NYC|  10-06-2022|          21|spotify:track:2JM...|       0.439|        0.34| 0.989|           0.722|   0.982|  -4.734|      0.108|139.361|  0.164|        25|     337600|\n",
      "|Sympathy For The ...|Licked Live In NYC|  10-06-2022|          22|spotify:track:183...|       0.424|       0.447| 0.979|         2.17E-5|   0.953|  -4.942|      0.114|109.191|  0.295|        26|     409466|\n",
      "|Jumpin Jack Flash...|Licked Live In NYC|  10-06-2022|          23|spotify:track:7p0...|       0.313|       0.192| 0.964|           0.538|   0.968|  -4.264|     0.0609|138.005|  0.191|        25|     370733|\n",
      "+--------------------+------------------+------------+------------+--------------------+------------+------------+------+----------------+--------+--------+-----------+-------+-------+----------+-----------+\n",
      "only showing top 20 rows\n",
      "\n"
     ]
    }
   ],
   "source": [
    "#drop null value\n",
    "\n",
    "data.na.drop().show()             # remove those rows who contains null values"
   ]
  },
  {
   "cell_type": "code",
   "execution_count": 29,
   "metadata": {},
   "outputs": [
    {
     "data": {
      "text/plain": [
       "DataFrame[name: string, album: string, release_date: string, track_number: int, uri: string, acousticness: double, danceability: double, energy: double, instrumentalness: double, liveness: double, loudness: double, speechiness: double, tempo: double, valence: double, popularity: int, duration_ms: int]"
      ]
     },
     "execution_count": 29,
     "metadata": {},
     "output_type": "execute_result"
    }
   ],
   "source": [
    "#any == how\n",
    "data.na.drop(how='any')   #remove any row which have null value and when how == all is it removes only when all rows contains null value"
   ]
  },
  {
   "cell_type": "code",
   "execution_count": 30,
   "metadata": {},
   "outputs": [
    {
     "data": {
      "text/plain": [
       "DataFrame[name: string, album: string, release_date: string, track_number: int, uri: string, acousticness: double, danceability: double, energy: double, instrumentalness: double, liveness: double, loudness: double, speechiness: double, tempo: double, valence: double, popularity: int, duration_ms: int]"
      ]
     },
     "execution_count": 30,
     "metadata": {},
     "output_type": "execute_result"
    }
   ],
   "source": [
    "#threshold\n",
    "\n",
    "data.na.drop(how='any',thresh=2) # atleast thershold null values it take but remove more than that\n"
   ]
  },
  {
   "cell_type": "code",
   "execution_count": 31,
   "metadata": {},
   "outputs": [
    {
     "data": {
      "text/plain": [
       "DataFrame[name: string, album: string, release_date: string, track_number: int, uri: string, acousticness: double, danceability: double, energy: double, instrumentalness: double, liveness: double, loudness: double, speechiness: double, tempo: double, valence: double, popularity: int, duration_ms: int]"
      ]
     },
     "execution_count": 31,
     "metadata": {},
     "output_type": "execute_result"
    }
   ],
   "source": [
    "#subset\n",
    "data.na.drop(how='any',subset=['acousticness'])   # remove from specific column"
   ]
  },
  {
   "cell_type": "code",
   "execution_count": 32,
   "metadata": {},
   "outputs": [
    {
     "data": {
      "text/plain": [
       "DataFrame[name: string, album: string, release_date: string, track_number: int, uri: string, acousticness: double, danceability: double, energy: double, instrumentalness: double, liveness: double, loudness: double, speechiness: double, tempo: double, valence: double, popularity: int, duration_ms: int]"
      ]
     },
     "execution_count": 32,
     "metadata": {},
     "output_type": "execute_result"
    }
   ],
   "source": [
    "## Filling the missing value\n",
    "\n",
    "data.na.fill('missing value')  #it replace all missing values to 'missing value' you can use subset feature also"
   ]
  },
  {
   "cell_type": "code",
   "execution_count": 36,
   "metadata": {},
   "outputs": [],
   "source": [
    "## handle null with mean using Imputer\n",
    "from pyspark.ml.feature import Imputer\n",
    " \n",
    "imputer = Imputer(\n",
    "    inputCols=['acousticness','danceability','energy'],\n",
    "    outputCols=[\"{}_imputed\".format(c) for c in ['acousticness','danceability','energy']]\n",
    ").setStrategy(\"mean\")\n"
   ]
  },
  {
   "cell_type": "code",
   "execution_count": 37,
   "metadata": {},
   "outputs": [
    {
     "name": "stdout",
     "output_type": "stream",
     "text": [
      "+--------------------+------------------+------------+------------+--------------------+------------+------------+------+----------------+--------+--------+-----------+-------+-------+----------+-----------+--------------------+--------------------+--------------+\n",
      "|                name|             album|release_date|track_number|                 uri|acousticness|danceability|energy|instrumentalness|liveness|loudness|speechiness|  tempo|valence|popularity|duration_ms|acousticness_imputed|danceability_imputed|energy_imputed|\n",
      "+--------------------+------------------+------------+------------+--------------------+------------+------------+------+----------------+--------+--------+-----------+-------+-------+----------+-----------+--------------------+--------------------+--------------+\n",
      "|Concert Intro Mus...|Licked Live In NYC|  10-06-2022|           1|spotify:track:2IE...|      0.0824|       0.463| 0.993|           0.996|   0.932| -12.913|       0.11|118.001| 0.0302|        33|      48640|              0.0824|               0.463|         0.993|\n",
      "|Street Fighting M...|Licked Live In NYC|  10-06-2022|           2|spotify:track:6GV...|       0.437|       0.326| 0.965|           0.233|   0.961|  -4.803|     0.0759|131.455|  0.318|        34|     253173|               0.437|               0.326|         0.965|\n",
      "|  Start Me Up - Live|Licked Live In NYC|  10-06-2022|           3|spotify:track:1Lu...|       0.416|       0.386| 0.969|             0.4|   0.956|  -4.936|      0.115|130.066|  0.313|        34|     263160|               0.416|               0.386|         0.969|\n",
      "|If You Can't Rock...|Licked Live In NYC|  10-06-2022|           4|spotify:track:1ag...|       0.567|       0.369| 0.985|         1.07E-4|   0.895|  -5.535|      0.193|132.994|  0.147|        32|     305880|               0.567|               0.369|         0.985|\n",
      "|   Don’t Stop - Live|Licked Live In NYC|  10-06-2022|           5|spotify:track:7pi...|         0.4|       0.303| 0.969|          0.0559|   0.966|  -5.098|      0.093|130.533|  0.206|        32|     305106|                 0.4|               0.303|         0.969|\n",
      "|   Monkey Man - Live|Licked Live In NYC|  10-06-2022|           6|spotify:track:3ix...|       0.275|        0.34| 0.956|           0.125|   0.741|  -5.539|     0.0915|101.628|  0.125|        31|     244293|               0.275|                0.34|         0.956|\n",
      "|        Angie - Live|Licked Live In NYC|  10-06-2022|           7|spotify:track:3R1...|       0.561|       0.262|  0.81|         2.76E-6|   0.972|  -6.851|     0.0969|  77.52|  0.394|        31|     245506|               0.561|               0.262|          0.81|\n",
      "| Let It Bleed - Live|Licked Live In NYC|  10-06-2022|           8|spotify:track:0TG...|        null|       0.413| 0.971|         2.67E-4|   0.993|  -5.509|     0.0873|128.958|  0.484|        30|     313586|  0.2504334191733994|               0.413|         0.971|\n",
      "|Midnight Rambler ...|Licked Live In NYC|  10-06-2022|           9|spotify:track:643...|       0.416|        null| 0.942|          0.0408|   0.959|  -6.018|      0.119|139.452|  0.285|        30|     781173|               0.416|  0.4692168224299068|         0.942|\n",
      "|Tumbling Dice - Live|Licked Live In NYC|  10-06-2022|          10|spotify:track:5NM...|       0.401|        0.31| 0.944|          0.0752|   0.974|  -5.074|      0.128|119.782|  0.188|        29|     333413|               0.401|                0.31|         0.944|\n",
      "|Band Introduction...|Licked Live In NYC|  10-06-2022|          11|spotify:track:06K...|       0.732|       0.262| 0.939|         0.00952|   0.936|  -9.269|      0.222|  79.42| 0.0317|        27|     284426|               0.732|               0.262|         0.939|\n",
      "|Thru And Thru - Live|Licked Live In NYC|  10-06-2022|          12|spotify:track:1rX...|       0.672|       0.278| 0.651|         4.25E-4|   0.893|  -7.024|     0.0553| 95.853|  0.334|        27|     432360|               0.672|               0.278|         0.651|\n",
      "|        Happy - Live|Licked Live In NYC|  10-06-2022|          13|spotify:track:0qr...|       0.473|       0.322| 0.947|           0.163|   0.955|   -4.12|     0.0602|136.149|  0.498|        27|     222560|               0.473|               0.322|         0.947|\n",
      "|Gimme Shelter - Live|Licked Live In NYC|  10-06-2022|          14|spotify:track:3Dv...|       0.423|        0.36|  0.98|         0.00219|    0.98|  -5.104|      0.104|119.779|  0.136|        28|     430426|               0.423|                0.36|          0.98|\n",
      "|You Got Me Rockin...|Licked Live In NYC|  10-06-2022|          15|spotify:track:2aN...|        0.32|       0.388| 0.974|          0.0955|   0.966|  -4.982|     0.0974|128.486|  0.166|        26|     227546|                0.32|               0.388|         0.974|\n",
      "|Can't You Hear Me...|Licked Live In NYC|  10-06-2022|          16|spotify:track:2hy...|       0.435|       0.401| 0.921|          0.0366|   0.976|  -5.664|     0.0517|144.848|  0.734|        27|     667986|               0.435|               0.401|         0.921|\n",
      "|Honky Tonk Women ...|Licked Live In NYC|  10-06-2022|          17|spotify:track:3na...|       0.536|       0.401|  0.94|         0.00183|   0.937|  -4.858|     0.0928|112.304|  0.342|        27|     301106|               0.536|               0.401|          0.94|\n",
      "| Satisfaction - Live|Licked Live In NYC|  10-06-2022|          18|spotify:track:6oM...|         0.5|        null| 0.979|           0.309|   0.969|  -4.472|     0.0906|142.464|   0.24|        28|     371133|                 0.5|  0.4692168224299068|         0.979|\n",
      "|It's Only Rock 'N...|Licked Live In NYC|  10-06-2022|          19|spotify:track:1Wk...|       0.675|       0.378| 0.986|           0.621|   0.971|  -5.232|     0.0833|140.253|  0.436|        25|     303960|               0.675|               0.378|         0.986|\n",
      "|When The Whip Com...|Licked Live In NYC|  10-06-2022|          20|spotify:track:4hT...|       0.336|       0.292| 0.986|           0.282|   0.975|  -5.827|      0.131|149.383|  0.179|        24|     291093|               0.336|               0.292|         0.986|\n",
      "+--------------------+------------------+------------+------------+--------------------+------------+------------+------+----------------+--------+--------+-----------+-------+-------+----------+-----------+--------------------+--------------------+--------------+\n",
      "only showing top 20 rows\n",
      "\n"
     ]
    }
   ],
   "source": [
    "#Add imputation cols to df\n",
    "imputer.fit(data).transform(data).show()"
   ]
  },
  {
   "attachments": {},
   "cell_type": "markdown",
   "metadata": {},
   "source": [
    "## Filter Operation \n"
   ]
  },
  {
   "cell_type": "code",
   "execution_count": 39,
   "metadata": {},
   "outputs": [
    {
     "name": "stdout",
     "output_type": "stream",
     "text": [
      "+--------------------+--------------------+------------+------------+--------------------+------------+------------+------+----------------+--------+--------+-----------+-------+-------+----------+-----------+\n",
      "|                name|               album|release_date|track_number|                 uri|acousticness|danceability|energy|instrumentalness|liveness|loudness|speechiness|  tempo|valence|popularity|duration_ms|\n",
      "+--------------------+--------------------+------------+------------+--------------------+------------+------------+------+----------------+--------+--------+-----------+-------+-------+----------+-----------+\n",
      "|Hang Fire - Remas...|Tattoo You (Super...|  22-10-2021|           2|spotify:track:0fc...|      0.0136|       0.421| 0.927|          0.0797|   0.264|  -1.734|     0.0345|151.096|  0.922|        29|     141626|\n",
      "|Little T&A - Rema...|Tattoo You (Super...|  22-10-2021|           4|spotify:track:6S1...|       0.156|       0.497| 0.953|          0.0429|   0.667|  -1.978|     0.0328|135.453|  0.801|        28|     204440|\n",
      "|Black Limousine -...|Tattoo You (Super...|  22-10-2021|           5|spotify:track:2iM...|       0.122|        0.48| 0.934|           0.198|   0.701|  -1.382|     0.0715|108.894|  0.825|        25|     214893|\n",
      "|Neighbours - Rema...|Tattoo You (Super...|  22-10-2021|           6|spotify:track:0Ta...|      0.0754|        null| 0.981|         0.00563|   0.245|  -1.712|      0.071| 82.412|  0.671|        24|     214306|\n",
      "|Living In The Hea...|Tattoo You (Super...|  22-10-2021|           1|spotify:track:0sn...|     0.00869|       0.463| 0.925|          0.0825|  0.0791|  -1.392|     0.0962|132.485|  0.761|        26|     253053|\n",
      "|            Fiji Jim|Tattoo You (Super...|  22-10-2021|           2|spotify:track:7jq...|      0.0247|        0.33|  0.96|         0.00585|   0.044|  -1.014|      0.204|179.524|  0.624|        23|     240466|\n",
      "|Hang Fire - Remas...|          Tattoo You|  22-10-2021|           2|spotify:track:4Ez...|      0.0136|       0.421| 0.927|          0.0797|   0.264|  -1.734|     0.0345|151.096|  0.922|        11|     141626|\n",
      "|Little T&A - Rema...|          Tattoo You|  22-10-2021|           4|spotify:track:0zT...|       0.156|       0.497| 0.953|          0.0429|   0.667|  -1.978|     0.0328|135.453|  0.801|        13|     204440|\n",
      "|Black Limousine -...|          Tattoo You|  22-10-2021|           5|spotify:track:01P...|       0.122|        0.48| 0.934|           0.198|   0.701|  -1.382|     0.0715|108.894|  0.825|         9|     214893|\n",
      "|Neighbours - Rema...|          Tattoo You|  22-10-2021|           6|spotify:track:39f...|      0.0754|       0.479| 0.981|         0.00563|   0.245|  -1.712|      0.071| 82.412|  0.671|         8|     214306|\n",
      "|(I Can't Get No) ...|          Still Life|  01-06-1982|          11|spotify:track:2RN...|      0.0619|       0.242| 0.995|          0.0105|   0.979|  -1.961|      0.133|166.209|  0.392|        20|     264266|\n",
      "|When The Whip Com...|          Some Girls|  09-06-1978|           2|spotify:track:2h7...|       0.382|       0.499| 0.986|           0.913|   0.284|  -1.871|     0.0503|130.597|  0.835|        40|     260959|\n",
      "|   Lies - Remastered|          Some Girls|  09-06-1978|           5|spotify:track:7hD...|       0.437|       0.382| 0.997|            0.95|   0.617|  -1.568|      0.188|162.428|  0.563|        37|     191266|\n",
      "|When The Whip Com...|Some Girls (Delux...|  09-06-1978|           2|spotify:track:0xC...|       0.382|       0.499| 0.986|           0.913|   0.284|  -1.871|     0.0503|130.597|  0.835|        20|     260959|\n",
      "|   Lies - Remastered|Some Girls (Delux...|  09-06-1978|           5|spotify:track:1Az...|       0.437|       0.382| 0.997|            0.95|   0.617|  -1.568|      0.188|162.428|  0.563|        16|     191266|\n",
      "|When The Whip Com...|Some Girls (Delux...|  09-06-1978|           2|spotify:track:4E8...|       0.382|       0.499| 0.986|           0.913|   0.284|  -1.871|     0.0503|130.597|  0.835|        18|     260959|\n",
      "|   Lies - Remastered|Some Girls (Delux...|  09-06-1978|           5|spotify:track:636...|       0.437|       0.382| 0.997|            0.95|   0.617|  -1.568|      0.188|162.428|  0.563|        16|     191266|\n",
      "|Brown Sugar - Liv...|Love You Live (Re...|  23-09-1977|           6|spotify:track:4JS...|       0.153|       0.388| 0.992|          0.0161|   0.948|  -1.954|      0.106|152.707|  0.571|        19|     190773|\n",
      "+--------------------+--------------------+------------+------------+--------------------+------------+------------+------+----------------+--------+--------+-----------+-------+-------+----------+-----------+\n",
      "\n"
     ]
    }
   ],
   "source": [
    "data.filter(\"loudness >= -2\").show()"
   ]
  },
  {
   "cell_type": "code",
   "execution_count": 40,
   "metadata": {},
   "outputs": [
    {
     "name": "stdout",
     "output_type": "stream",
     "text": [
      "+--------------------+--------+\n",
      "|                name|loudness|\n",
      "+--------------------+--------+\n",
      "|Hang Fire - Remas...|  -1.734|\n",
      "|Little T&A - Rema...|  -1.978|\n",
      "|Black Limousine -...|  -1.382|\n",
      "|Neighbours - Rema...|  -1.712|\n",
      "|Living In The Hea...|  -1.392|\n",
      "|            Fiji Jim|  -1.014|\n",
      "|Hang Fire - Remas...|  -1.734|\n",
      "|Little T&A - Rema...|  -1.978|\n",
      "|Black Limousine -...|  -1.382|\n",
      "|Neighbours - Rema...|  -1.712|\n",
      "|(I Can't Get No) ...|  -1.961|\n",
      "|When The Whip Com...|  -1.871|\n",
      "|   Lies - Remastered|  -1.568|\n",
      "|When The Whip Com...|  -1.871|\n",
      "|   Lies - Remastered|  -1.568|\n",
      "|When The Whip Com...|  -1.871|\n",
      "|   Lies - Remastered|  -1.568|\n",
      "|Brown Sugar - Liv...|  -1.954|\n",
      "+--------------------+--------+\n",
      "\n"
     ]
    }
   ],
   "source": [
    "data.filter(\"loudness >= -2\").select([\"name\",\"loudness\"]).show()"
   ]
  },
  {
   "cell_type": "code",
   "execution_count": 49,
   "metadata": {},
   "outputs": [
    {
     "name": "stdout",
     "output_type": "stream",
     "text": [
      "+--------------------+--------+----------+\n",
      "|                name|loudness|popularity|\n",
      "+--------------------+--------+----------+\n",
      "|Concert Intro Mus...| -12.913|        33|\n",
      "|Street Fighting M...|  -4.803|        34|\n",
      "|  Start Me Up - Live|  -4.936|        34|\n",
      "|If You Can't Rock...|  -5.535|        32|\n",
      "|   Don’t Stop - Live|  -5.098|        32|\n",
      "|   Monkey Man - Live|  -5.539|        31|\n",
      "|        Angie - Live|  -6.851|        31|\n",
      "| Let It Bleed - Live|  -5.509|        30|\n",
      "|Midnight Rambler ...|  -6.018|        30|\n",
      "|Tumbling Dice - Live|  -5.074|        29|\n",
      "|Band Introduction...|  -9.269|        27|\n",
      "|Thru And Thru - Live|  -7.024|        27|\n",
      "|        Happy - Live|   -4.12|        27|\n",
      "|Gimme Shelter - Live|  -5.104|        28|\n",
      "|You Got Me Rockin...|  -4.982|        26|\n",
      "|Can't You Hear Me...|  -5.664|        27|\n",
      "|Honky Tonk Women ...|  -4.858|        27|\n",
      "| Satisfaction - Live|  -4.472|        28|\n",
      "|It's Only Rock 'N...|  -5.232|        25|\n",
      "|When The Whip Com...|  -5.827|        24|\n",
      "+--------------------+--------+----------+\n",
      "only showing top 20 rows\n",
      "\n"
     ]
    }
   ],
   "source": [
    "data.filter((data[\"loudness\"] >= -2) |(data['popularity']>=20)).select([\"name\",\"loudness\",\"popularity\"]).show()"
   ]
  },
  {
   "cell_type": "code",
   "execution_count": 53,
   "metadata": {},
   "outputs": [
    {
     "name": "stdout",
     "output_type": "stream",
     "text": [
      "+--------------------+--------+----------+\n",
      "|                name|loudness|popularity|\n",
      "+--------------------+--------+----------+\n",
      "|When The Whip Com...|  -6.821|        19|\n",
      "|Shattered - Live ...|  -6.276|        19|\n",
      "|Neighbours - Live...|  -6.204|        18|\n",
      "|Black Limousine -...|  -6.042|        18|\n",
      "|Just My Imaginati...|  -6.393|        19|\n",
      "|Twenty Flight Roc...|  -5.737|        18|\n",
      "|Going To A Go-Go ...|  -5.955|        19|\n",
      "|Chantilly Lace - ...|  -5.495|        18|\n",
      "|Let Me Go - Live ...|  -6.113|        17|\n",
      "|Time Is On My Sid...|  -6.507|        18|\n",
      "|Let It Bleed - Li...|  -6.337|        18|\n",
      "|You Can't Always ...|  -7.031|        18|\n",
      "|Band Introduction...| -10.683|        15|\n",
      "|Little T&A - Live...|  -6.179|        17|\n",
      "|Tumbling Dice - L...|  -6.404|        17|\n",
      "|She's So Cold - L...|  -6.579|        18|\n",
      "|Hang Fire - Live ...|    -5.8|        17|\n",
      "|Miss You - Live a...|  -6.823|        19|\n",
      "|Honky Tonk Women ...|  -6.532|        18|\n",
      "|Brown Sugar - Liv...|  -5.808|        16|\n",
      "+--------------------+--------+----------+\n",
      "only showing top 20 rows\n",
      "\n"
     ]
    }
   ],
   "source": [
    "# not operation\n",
    "data.filter(~(data[\"loudness\"] >= -2) & ~(data['popularity']>=20)).select([\"name\",\"loudness\",\"popularity\"]).show()"
   ]
  },
  {
   "attachments": {},
   "cell_type": "markdown",
   "metadata": {},
   "source": [
    "## GroupBy and Aggregate Function"
   ]
  },
  {
   "cell_type": "code",
   "execution_count": 54,
   "metadata": {},
   "outputs": [
    {
     "name": "stdout",
     "output_type": "stream",
     "text": [
      "root\n",
      " |-- name: string (nullable = true)\n",
      " |-- album: string (nullable = true)\n",
      " |-- release_date: string (nullable = true)\n",
      " |-- track_number: integer (nullable = true)\n",
      " |-- uri: string (nullable = true)\n",
      " |-- acousticness: double (nullable = true)\n",
      " |-- danceability: double (nullable = true)\n",
      " |-- energy: double (nullable = true)\n",
      " |-- instrumentalness: double (nullable = true)\n",
      " |-- liveness: double (nullable = true)\n",
      " |-- loudness: double (nullable = true)\n",
      " |-- speechiness: double (nullable = true)\n",
      " |-- tempo: double (nullable = true)\n",
      " |-- valence: double (nullable = true)\n",
      " |-- popularity: integer (nullable = true)\n",
      " |-- duration_ms: integer (nullable = true)\n",
      "\n"
     ]
    }
   ],
   "source": [
    "data.printSchema()"
   ]
  },
  {
   "cell_type": "code",
   "execution_count": 62,
   "metadata": {},
   "outputs": [
    {
     "name": "stdout",
     "output_type": "stream",
     "text": [
      "+--------------------+-----+\n",
      "|                name|count|\n",
      "+--------------------+-----+\n",
      "|You Got Me Rockin...|    7|\n",
      "|Honky Tonk Women ...|    1|\n",
      "|Little Red Rooste...|    1|\n",
      "|Carol - Saturday ...|    1|\n",
      "|              Heaven|    1|\n",
      "|\"Intro: Excerpt F...|    1|\n",
      "|Crackin' Up - Liv...|    1|\n",
      "|(I Can't Get No) ...|    2|\n",
      "|Off The Hook - Mo...|    3|\n",
      "|I Can’t Turn You ...|    1|\n",
      "|Sweet Neo Con - R...|    1|\n",
      "|Paint It Black - ...|    1|\n",
      "|No Use In Crying ...|    1|\n",
      "|      Highland Fling|    1|\n",
      "|Heart Of Stone - ...|    3|\n",
      "|Undercover (Of Th...|    1|\n",
      "|I Can't Be Satisf...|    1|\n",
      "| Love In Vain - Live|    6|\n",
      "|           Sex Drive|    1|\n",
      "|      Pretty Beat Up|    1|\n",
      "+--------------------+-----+\n",
      "only showing top 20 rows\n",
      "\n"
     ]
    }
   ],
   "source": [
    "## groupby\n",
    "\n",
    "data.groupBy(\"name\").count().show()"
   ]
  },
  {
   "cell_type": "code",
   "execution_count": 63,
   "metadata": {},
   "outputs": [
    {
     "name": "stdout",
     "output_type": "stream",
     "text": [
      "+---------------+\n",
      "|sum(popularity)|\n",
      "+---------------+\n",
      "|          33469|\n",
      "+---------------+\n",
      "\n"
     ]
    }
   ],
   "source": [
    "data.agg({'popularity':'sum'}).show()"
   ]
  },
  {
   "cell_type": "code",
   "execution_count": 65,
   "metadata": {},
   "outputs": [
    {
     "data": {
      "text/plain": [
       "['name',\n",
       " 'album',\n",
       " 'release_date',\n",
       " 'track_number',\n",
       " 'uri',\n",
       " 'acousticness',\n",
       " 'danceability',\n",
       " 'energy',\n",
       " 'instrumentalness',\n",
       " 'liveness',\n",
       " 'loudness',\n",
       " 'speechiness',\n",
       " 'tempo',\n",
       " 'valence',\n",
       " 'popularity',\n",
       " 'duration_ms']"
      ]
     },
     "execution_count": 65,
     "metadata": {},
     "output_type": "execute_result"
    }
   ],
   "source": [
    "data.columns"
   ]
  },
  {
   "cell_type": "code",
   "execution_count": 91,
   "metadata": {},
   "outputs": [],
   "source": [
    "data = data.drop('name',\n",
    " 'album',\n",
    " 'release_date',\n",
    " 'track_number',\n",
    " 'uri')"
   ]
  },
  {
   "attachments": {},
   "cell_type": "markdown",
   "metadata": {},
   "source": [
    "## DataFrame API spark MLlib"
   ]
  },
  {
   "cell_type": "code",
   "execution_count": 98,
   "metadata": {},
   "outputs": [],
   "source": [
    "data = spark.read.csv(\"./test.csv\",header=True,inferSchema=True)"
   ]
  },
  {
   "cell_type": "code",
   "execution_count": 99,
   "metadata": {},
   "outputs": [
    {
     "name": "stdout",
     "output_type": "stream",
     "text": [
      "root\n",
      " |-- Name: string (nullable = true)\n",
      " |-- age: integer (nullable = true)\n",
      " |-- Experience: integer (nullable = true)\n",
      " |-- Salary: integer (nullable = true)\n",
      "\n"
     ]
    }
   ],
   "source": [
    "data.printSchema()"
   ]
  },
  {
   "cell_type": "code",
   "execution_count": 100,
   "metadata": {},
   "outputs": [],
   "source": [
    "from pyspark.ml.feature import VectorAssembler\n",
    "featureassembler = VectorAssembler(\n",
    "    inputCols=['age','Experience'],outputCol='Independent')"
   ]
  },
  {
   "cell_type": "code",
   "execution_count": 101,
   "metadata": {},
   "outputs": [],
   "source": [
    "output = featureassembler.transform(data)"
   ]
  },
  {
   "cell_type": "code",
   "execution_count": 102,
   "metadata": {},
   "outputs": [
    {
     "name": "stdout",
     "output_type": "stream",
     "text": [
      "+----+---+----------+------+-----------+\n",
      "|Name|age|Experience|Salary|Independent|\n",
      "+----+---+----------+------+-----------+\n",
      "|   Z| 32|        10| 30000|[32.0,10.0]|\n",
      "|   A| 21|         8| 25000| [21.0,8.0]|\n",
      "|   B| 30|         4| 20000| [30.0,4.0]|\n",
      "|   C| 26|         3| 20000| [26.0,3.0]|\n",
      "|   E| 24|         1|150000| [24.0,1.0]|\n",
      "|   D| 28|         2| 18000| [28.0,2.0]|\n",
      "+----+---+----------+------+-----------+\n",
      "\n"
     ]
    }
   ],
   "source": [
    "output.show()"
   ]
  },
  {
   "cell_type": "code",
   "execution_count": 103,
   "metadata": {},
   "outputs": [],
   "source": [
    "finalize_data = output.select(\"Independent\",\"Salary\")"
   ]
  },
  {
   "cell_type": "code",
   "execution_count": 104,
   "metadata": {},
   "outputs": [
    {
     "name": "stdout",
     "output_type": "stream",
     "text": [
      "+-----------+------+\n",
      "|Independent|Salary|\n",
      "+-----------+------+\n",
      "|[32.0,10.0]| 30000|\n",
      "| [21.0,8.0]| 25000|\n",
      "| [30.0,4.0]| 20000|\n",
      "| [26.0,3.0]| 20000|\n",
      "| [24.0,1.0]|150000|\n",
      "| [28.0,2.0]| 18000|\n",
      "+-----------+------+\n",
      "\n"
     ]
    }
   ],
   "source": [
    "finalize_data.show()"
   ]
  },
  {
   "cell_type": "code",
   "execution_count": 105,
   "metadata": {},
   "outputs": [],
   "source": [
    "from pyspark.ml.regression import LinearRegression\n",
    "train_data, test_data = finalize_data.randomSplit([0.75,0.25])\n",
    "regressor = LinearRegression(featuresCol='Independent',labelCol=\"Salary\")\n",
    "regressor = regressor.fit(train_data)"
   ]
  },
  {
   "cell_type": "code",
   "execution_count": 106,
   "metadata": {},
   "outputs": [
    {
     "data": {
      "text/plain": [
       "DenseVector([136.8973, 1387.687])"
      ]
     },
     "execution_count": 106,
     "metadata": {},
     "output_type": "execute_result"
    }
   ],
   "source": [
    "## coefficient\n",
    "regressor.coefficients"
   ]
  },
  {
   "cell_type": "code",
   "execution_count": 107,
   "metadata": {},
   "outputs": [
    {
     "data": {
      "text/plain": [
       "11355.503903689258"
      ]
     },
     "execution_count": 107,
     "metadata": {},
     "output_type": "execute_result"
    }
   ],
   "source": [
    "## intercepts\n",
    "regressor.intercept"
   ]
  },
  {
   "cell_type": "code",
   "execution_count": 108,
   "metadata": {},
   "outputs": [],
   "source": [
    "pred_results = regressor.evaluate(test_data)"
   ]
  },
  {
   "cell_type": "code",
   "execution_count": 109,
   "metadata": {},
   "outputs": [
    {
     "name": "stdout",
     "output_type": "stream",
     "text": [
      "+-----------+------+------------------+\n",
      "|Independent|Salary|        prediction|\n",
      "+-----------+------+------------------+\n",
      "| [24.0,1.0]|150000|16028.726384170699|\n",
      "+-----------+------+------------------+\n",
      "\n"
     ]
    }
   ],
   "source": [
    "pred_results.predictions.show()"
   ]
  },
  {
   "cell_type": "code",
   "execution_count": 110,
   "metadata": {},
   "outputs": [
    {
     "data": {
      "text/plain": [
       "(133971.2736158293, 17948302154.2474)"
      ]
     },
     "execution_count": 110,
     "metadata": {},
     "output_type": "execute_result"
    }
   ],
   "source": [
    "pred_results.meanAbsoluteError,pred_results.meanSquaredError"
   ]
  },
  {
   "cell_type": "code",
   "execution_count": null,
   "metadata": {},
   "outputs": [],
   "source": []
  }
 ],
 "metadata": {
  "kernelspec": {
   "display_name": "Python 3",
   "language": "python",
   "name": "python3"
  },
  "language_info": {
   "codemirror_mode": {
    "name": "ipython",
    "version": 3
   },
   "file_extension": ".py",
   "mimetype": "text/x-python",
   "name": "python",
   "nbconvert_exporter": "python",
   "pygments_lexer": "ipython3",
   "version": "3.10.9"
  },
  "orig_nbformat": 4,
  "vscode": {
   "interpreter": {
    "hash": "feb81d5d1cb1e3ad3c1f152c3058a9f8303a08c5a4dda7c4edf0e5beebafd599"
   }
  }
 },
 "nbformat": 4,
 "nbformat_minor": 2
}
