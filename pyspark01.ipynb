{
 "cells": [
  {
   "cell_type": "code",
   "execution_count": 12,
   "metadata": {},
   "outputs": [],
   "source": [
    "# %pip install pyspark\n",
    "# %pip install pandas\n"
   ]
  },
  {
   "cell_type": "code",
   "execution_count": 16,
   "metadata": {},
   "outputs": [
    {
     "data": {
      "text/html": [
       "<div>\n",
       "<style scoped>\n",
       "    .dataframe tbody tr th:only-of-type {\n",
       "        vertical-align: middle;\n",
       "    }\n",
       "\n",
       "    .dataframe tbody tr th {\n",
       "        vertical-align: top;\n",
       "    }\n",
       "\n",
       "    .dataframe thead th {\n",
       "        text-align: right;\n",
       "    }\n",
       "</style>\n",
       "<table border=\"1\" class=\"dataframe\">\n",
       "  <thead>\n",
       "    <tr style=\"text-align: right;\">\n",
       "      <th></th>\n",
       "      <th>name</th>\n",
       "      <th>album</th>\n",
       "      <th>release_date</th>\n",
       "      <th>track_number</th>\n",
       "      <th>id</th>\n",
       "      <th>uri</th>\n",
       "      <th>acousticness</th>\n",
       "      <th>danceability</th>\n",
       "      <th>energy</th>\n",
       "      <th>instrumentalness</th>\n",
       "      <th>liveness</th>\n",
       "      <th>loudness</th>\n",
       "      <th>speechiness</th>\n",
       "      <th>tempo</th>\n",
       "      <th>valence</th>\n",
       "      <th>popularity</th>\n",
       "      <th>duration_ms</th>\n",
       "    </tr>\n",
       "  </thead>\n",
       "  <tbody>\n",
       "    <tr>\n",
       "      <th>0</th>\n",
       "      <td>Concert Intro Music - Live</td>\n",
       "      <td>Licked Live In NYC</td>\n",
       "      <td>2022-06-10</td>\n",
       "      <td>1</td>\n",
       "      <td>2IEkywLJ4ykbhi1yRQvmsT</td>\n",
       "      <td>spotify:track:2IEkywLJ4ykbhi1yRQvmsT</td>\n",
       "      <td>0.0824</td>\n",
       "      <td>0.463</td>\n",
       "      <td>0.993</td>\n",
       "      <td>0.996000</td>\n",
       "      <td>0.9320</td>\n",
       "      <td>-12.913</td>\n",
       "      <td>0.1100</td>\n",
       "      <td>118.001</td>\n",
       "      <td>0.0302</td>\n",
       "      <td>33</td>\n",
       "      <td>48640</td>\n",
       "    </tr>\n",
       "    <tr>\n",
       "      <th>1</th>\n",
       "      <td>Street Fighting Man - Live</td>\n",
       "      <td>Licked Live In NYC</td>\n",
       "      <td>2022-06-10</td>\n",
       "      <td>2</td>\n",
       "      <td>6GVgVJBKkGJoRfarYRvGTU</td>\n",
       "      <td>spotify:track:6GVgVJBKkGJoRfarYRvGTU</td>\n",
       "      <td>0.4370</td>\n",
       "      <td>0.326</td>\n",
       "      <td>0.965</td>\n",
       "      <td>0.233000</td>\n",
       "      <td>0.9610</td>\n",
       "      <td>-4.803</td>\n",
       "      <td>0.0759</td>\n",
       "      <td>131.455</td>\n",
       "      <td>0.3180</td>\n",
       "      <td>34</td>\n",
       "      <td>253173</td>\n",
       "    </tr>\n",
       "    <tr>\n",
       "      <th>2</th>\n",
       "      <td>Start Me Up - Live</td>\n",
       "      <td>Licked Live In NYC</td>\n",
       "      <td>2022-06-10</td>\n",
       "      <td>3</td>\n",
       "      <td>1Lu761pZ0dBTGpzxaQoZNW</td>\n",
       "      <td>spotify:track:1Lu761pZ0dBTGpzxaQoZNW</td>\n",
       "      <td>0.4160</td>\n",
       "      <td>0.386</td>\n",
       "      <td>0.969</td>\n",
       "      <td>0.400000</td>\n",
       "      <td>0.9560</td>\n",
       "      <td>-4.936</td>\n",
       "      <td>0.1150</td>\n",
       "      <td>130.066</td>\n",
       "      <td>0.3130</td>\n",
       "      <td>34</td>\n",
       "      <td>263160</td>\n",
       "    </tr>\n",
       "    <tr>\n",
       "      <th>3</th>\n",
       "      <td>If You Can't Rock Me - Live</td>\n",
       "      <td>Licked Live In NYC</td>\n",
       "      <td>2022-06-10</td>\n",
       "      <td>4</td>\n",
       "      <td>1agTQzOTUnGNggyckEqiDH</td>\n",
       "      <td>spotify:track:1agTQzOTUnGNggyckEqiDH</td>\n",
       "      <td>0.5670</td>\n",
       "      <td>0.369</td>\n",
       "      <td>0.985</td>\n",
       "      <td>0.000107</td>\n",
       "      <td>0.8950</td>\n",
       "      <td>-5.535</td>\n",
       "      <td>0.1930</td>\n",
       "      <td>132.994</td>\n",
       "      <td>0.1470</td>\n",
       "      <td>32</td>\n",
       "      <td>305880</td>\n",
       "    </tr>\n",
       "    <tr>\n",
       "      <th>4</th>\n",
       "      <td>Don’t Stop - Live</td>\n",
       "      <td>Licked Live In NYC</td>\n",
       "      <td>2022-06-10</td>\n",
       "      <td>5</td>\n",
       "      <td>7piGJR8YndQBQWVXv6KtQw</td>\n",
       "      <td>spotify:track:7piGJR8YndQBQWVXv6KtQw</td>\n",
       "      <td>0.4000</td>\n",
       "      <td>0.303</td>\n",
       "      <td>0.969</td>\n",
       "      <td>0.055900</td>\n",
       "      <td>0.9660</td>\n",
       "      <td>-5.098</td>\n",
       "      <td>0.0930</td>\n",
       "      <td>130.533</td>\n",
       "      <td>0.2060</td>\n",
       "      <td>32</td>\n",
       "      <td>305106</td>\n",
       "    </tr>\n",
       "    <tr>\n",
       "      <th>...</th>\n",
       "      <td>...</td>\n",
       "      <td>...</td>\n",
       "      <td>...</td>\n",
       "      <td>...</td>\n",
       "      <td>...</td>\n",
       "      <td>...</td>\n",
       "      <td>...</td>\n",
       "      <td>...</td>\n",
       "      <td>...</td>\n",
       "      <td>...</td>\n",
       "      <td>...</td>\n",
       "      <td>...</td>\n",
       "      <td>...</td>\n",
       "      <td>...</td>\n",
       "      <td>...</td>\n",
       "      <td>...</td>\n",
       "      <td>...</td>\n",
       "    </tr>\n",
       "    <tr>\n",
       "      <th>1605</th>\n",
       "      <td>Carol</td>\n",
       "      <td>The Rolling Stones</td>\n",
       "      <td>1964-04-16</td>\n",
       "      <td>8</td>\n",
       "      <td>08l7M5UpRnffGl0FyuRiQZ</td>\n",
       "      <td>spotify:track:08l7M5UpRnffGl0FyuRiQZ</td>\n",
       "      <td>0.1570</td>\n",
       "      <td>0.466</td>\n",
       "      <td>0.932</td>\n",
       "      <td>0.006170</td>\n",
       "      <td>0.3240</td>\n",
       "      <td>-9.214</td>\n",
       "      <td>0.0429</td>\n",
       "      <td>177.340</td>\n",
       "      <td>0.9670</td>\n",
       "      <td>39</td>\n",
       "      <td>154080</td>\n",
       "    </tr>\n",
       "    <tr>\n",
       "      <th>1606</th>\n",
       "      <td>Tell Me</td>\n",
       "      <td>The Rolling Stones</td>\n",
       "      <td>1964-04-16</td>\n",
       "      <td>9</td>\n",
       "      <td>3JZllQBsTM6WwoJdzFDLhx</td>\n",
       "      <td>spotify:track:3JZllQBsTM6WwoJdzFDLhx</td>\n",
       "      <td>0.0576</td>\n",
       "      <td>0.509</td>\n",
       "      <td>0.706</td>\n",
       "      <td>0.000002</td>\n",
       "      <td>0.5160</td>\n",
       "      <td>-9.427</td>\n",
       "      <td>0.0843</td>\n",
       "      <td>122.015</td>\n",
       "      <td>0.4460</td>\n",
       "      <td>36</td>\n",
       "      <td>245266</td>\n",
       "    </tr>\n",
       "    <tr>\n",
       "      <th>1607</th>\n",
       "      <td>Can I Get A Witness</td>\n",
       "      <td>The Rolling Stones</td>\n",
       "      <td>1964-04-16</td>\n",
       "      <td>10</td>\n",
       "      <td>0t2qvfSBQ3Y08lzRRoVTdb</td>\n",
       "      <td>spotify:track:0t2qvfSBQ3Y08lzRRoVTdb</td>\n",
       "      <td>0.3710</td>\n",
       "      <td>0.790</td>\n",
       "      <td>0.774</td>\n",
       "      <td>0.000000</td>\n",
       "      <td>0.0669</td>\n",
       "      <td>-7.961</td>\n",
       "      <td>0.0720</td>\n",
       "      <td>97.035</td>\n",
       "      <td>0.8350</td>\n",
       "      <td>30</td>\n",
       "      <td>176080</td>\n",
       "    </tr>\n",
       "    <tr>\n",
       "      <th>1608</th>\n",
       "      <td>You Can Make It If You Try</td>\n",
       "      <td>The Rolling Stones</td>\n",
       "      <td>1964-04-16</td>\n",
       "      <td>11</td>\n",
       "      <td>5ivIs5vwSj0RChOIvlY3On</td>\n",
       "      <td>spotify:track:5ivIs5vwSj0RChOIvlY3On</td>\n",
       "      <td>0.2170</td>\n",
       "      <td>0.700</td>\n",
       "      <td>0.546</td>\n",
       "      <td>0.000070</td>\n",
       "      <td>0.1660</td>\n",
       "      <td>-9.567</td>\n",
       "      <td>0.0622</td>\n",
       "      <td>102.634</td>\n",
       "      <td>0.5320</td>\n",
       "      <td>27</td>\n",
       "      <td>121680</td>\n",
       "    </tr>\n",
       "    <tr>\n",
       "      <th>1609</th>\n",
       "      <td>Walking The Dog</td>\n",
       "      <td>The Rolling Stones</td>\n",
       "      <td>1964-04-16</td>\n",
       "      <td>12</td>\n",
       "      <td>43SkTJJ2xleDaeiE4TIM70</td>\n",
       "      <td>spotify:track:43SkTJJ2xleDaeiE4TIM70</td>\n",
       "      <td>0.3830</td>\n",
       "      <td>0.727</td>\n",
       "      <td>0.934</td>\n",
       "      <td>0.068500</td>\n",
       "      <td>0.0965</td>\n",
       "      <td>-8.373</td>\n",
       "      <td>0.0359</td>\n",
       "      <td>125.275</td>\n",
       "      <td>0.9690</td>\n",
       "      <td>35</td>\n",
       "      <td>189186</td>\n",
       "    </tr>\n",
       "  </tbody>\n",
       "</table>\n",
       "<p>1610 rows × 17 columns</p>\n",
       "</div>"
      ],
      "text/plain": [
       "                             name               album release_date  \\\n",
       "0      Concert Intro Music - Live  Licked Live In NYC   2022-06-10   \n",
       "1      Street Fighting Man - Live  Licked Live In NYC   2022-06-10   \n",
       "2              Start Me Up - Live  Licked Live In NYC   2022-06-10   \n",
       "3     If You Can't Rock Me - Live  Licked Live In NYC   2022-06-10   \n",
       "4               Don’t Stop - Live  Licked Live In NYC   2022-06-10   \n",
       "...                           ...                 ...          ...   \n",
       "1605                        Carol  The Rolling Stones   1964-04-16   \n",
       "1606                      Tell Me  The Rolling Stones   1964-04-16   \n",
       "1607          Can I Get A Witness  The Rolling Stones   1964-04-16   \n",
       "1608   You Can Make It If You Try  The Rolling Stones   1964-04-16   \n",
       "1609              Walking The Dog  The Rolling Stones   1964-04-16   \n",
       "\n",
       "      track_number                      id  \\\n",
       "0                1  2IEkywLJ4ykbhi1yRQvmsT   \n",
       "1                2  6GVgVJBKkGJoRfarYRvGTU   \n",
       "2                3  1Lu761pZ0dBTGpzxaQoZNW   \n",
       "3                4  1agTQzOTUnGNggyckEqiDH   \n",
       "4                5  7piGJR8YndQBQWVXv6KtQw   \n",
       "...            ...                     ...   \n",
       "1605             8  08l7M5UpRnffGl0FyuRiQZ   \n",
       "1606             9  3JZllQBsTM6WwoJdzFDLhx   \n",
       "1607            10  0t2qvfSBQ3Y08lzRRoVTdb   \n",
       "1608            11  5ivIs5vwSj0RChOIvlY3On   \n",
       "1609            12  43SkTJJ2xleDaeiE4TIM70   \n",
       "\n",
       "                                       uri  acousticness  danceability  \\\n",
       "0     spotify:track:2IEkywLJ4ykbhi1yRQvmsT        0.0824         0.463   \n",
       "1     spotify:track:6GVgVJBKkGJoRfarYRvGTU        0.4370         0.326   \n",
       "2     spotify:track:1Lu761pZ0dBTGpzxaQoZNW        0.4160         0.386   \n",
       "3     spotify:track:1agTQzOTUnGNggyckEqiDH        0.5670         0.369   \n",
       "4     spotify:track:7piGJR8YndQBQWVXv6KtQw        0.4000         0.303   \n",
       "...                                    ...           ...           ...   \n",
       "1605  spotify:track:08l7M5UpRnffGl0FyuRiQZ        0.1570         0.466   \n",
       "1606  spotify:track:3JZllQBsTM6WwoJdzFDLhx        0.0576         0.509   \n",
       "1607  spotify:track:0t2qvfSBQ3Y08lzRRoVTdb        0.3710         0.790   \n",
       "1608  spotify:track:5ivIs5vwSj0RChOIvlY3On        0.2170         0.700   \n",
       "1609  spotify:track:43SkTJJ2xleDaeiE4TIM70        0.3830         0.727   \n",
       "\n",
       "      energy  instrumentalness  liveness  loudness  speechiness    tempo  \\\n",
       "0      0.993          0.996000    0.9320   -12.913       0.1100  118.001   \n",
       "1      0.965          0.233000    0.9610    -4.803       0.0759  131.455   \n",
       "2      0.969          0.400000    0.9560    -4.936       0.1150  130.066   \n",
       "3      0.985          0.000107    0.8950    -5.535       0.1930  132.994   \n",
       "4      0.969          0.055900    0.9660    -5.098       0.0930  130.533   \n",
       "...      ...               ...       ...       ...          ...      ...   \n",
       "1605   0.932          0.006170    0.3240    -9.214       0.0429  177.340   \n",
       "1606   0.706          0.000002    0.5160    -9.427       0.0843  122.015   \n",
       "1607   0.774          0.000000    0.0669    -7.961       0.0720   97.035   \n",
       "1608   0.546          0.000070    0.1660    -9.567       0.0622  102.634   \n",
       "1609   0.934          0.068500    0.0965    -8.373       0.0359  125.275   \n",
       "\n",
       "      valence  popularity  duration_ms  \n",
       "0      0.0302          33        48640  \n",
       "1      0.3180          34       253173  \n",
       "2      0.3130          34       263160  \n",
       "3      0.1470          32       305880  \n",
       "4      0.2060          32       305106  \n",
       "...       ...         ...          ...  \n",
       "1605   0.9670          39       154080  \n",
       "1606   0.4460          36       245266  \n",
       "1607   0.8350          30       176080  \n",
       "1608   0.5320          27       121680  \n",
       "1609   0.9690          35       189186  \n",
       "\n",
       "[1610 rows x 17 columns]"
      ]
     },
     "execution_count": 16,
     "metadata": {},
     "output_type": "execute_result"
    }
   ],
   "source": [
    "import pandas as pd\n",
    "data=pd.read_csv(\"D:/Programming/Pyspark-BigData/rolling_stones_spotify.csv\")\n",
    "data.pop('Unnamed: 0')\n",
    "data"
   ]
  },
  {
   "cell_type": "code",
   "execution_count": 17,
   "metadata": {},
   "outputs": [],
   "source": [
    "import pyspark\n",
    "from pyspark.sql import SparkSession\n"
   ]
  },
  {
   "cell_type": "code",
   "execution_count": 18,
   "metadata": {},
   "outputs": [],
   "source": [
    "spark = SparkSession.builder.appName('pratice').getOrCreate()"
   ]
  },
  {
   "cell_type": "code",
   "execution_count": 19,
   "metadata": {},
   "outputs": [
    {
     "data": {
      "text/html": [
       "\n",
       "            <div>\n",
       "                <p><b>SparkSession - in-memory</b></p>\n",
       "                \n",
       "        <div>\n",
       "            <p><b>SparkContext</b></p>\n",
       "\n",
       "            <p><a href=\"http://192.168.1.6:4040\">Spark UI</a></p>\n",
       "\n",
       "            <dl>\n",
       "              <dt>Version</dt>\n",
       "                <dd><code>v3.3.1</code></dd>\n",
       "              <dt>Master</dt>\n",
       "                <dd><code>local[*]</code></dd>\n",
       "              <dt>AppName</dt>\n",
       "                <dd><code>pratice</code></dd>\n",
       "            </dl>\n",
       "        </div>\n",
       "        \n",
       "            </div>\n",
       "        "
      ],
      "text/plain": [
       "<pyspark.sql.session.SparkSession at 0x23280d3b280>"
      ]
     },
     "execution_count": 19,
     "metadata": {},
     "output_type": "execute_result"
    }
   ],
   "source": [
    "spark"
   ]
  },
  {
   "cell_type": "code",
   "execution_count": 23,
   "metadata": {},
   "outputs": [
    {
     "name": "stdout",
     "output_type": "stream",
     "text": [
      "+---+--------------------+------------------+------------+------------+--------------------+--------------------+------------+------------+------+----------------+--------+--------+-----------+-------+-------+----------+-----------+\n",
      "|_c0|                name|             album|release_date|track_number|                  id|                 uri|acousticness|danceability|energy|instrumentalness|liveness|loudness|speechiness|  tempo|valence|popularity|duration_ms|\n",
      "+---+--------------------+------------------+------------+------------+--------------------+--------------------+------------+------------+------+----------------+--------+--------+-----------+-------+-------+----------+-----------+\n",
      "|  0|Concert Intro Mus...|Licked Live In NYC|  2022-06-10|           1|2IEkywLJ4ykbhi1yR...|spotify:track:2IE...|      0.0824|       0.463| 0.993|           0.996|   0.932| -12.913|       0.11|118.001| 0.0302|        33|      48640|\n",
      "|  1|Street Fighting M...|Licked Live In NYC|  2022-06-10|           2|6GVgVJBKkGJoRfarY...|spotify:track:6GV...|       0.437|       0.326| 0.965|           0.233|   0.961|  -4.803|     0.0759|131.455|  0.318|        34|     253173|\n",
      "|  2|  Start Me Up - Live|Licked Live In NYC|  2022-06-10|           3|1Lu761pZ0dBTGpzxa...|spotify:track:1Lu...|       0.416|       0.386| 0.969|             0.4|   0.956|  -4.936|      0.115|130.066|  0.313|        34|     263160|\n",
      "|  3|If You Can't Rock...|Licked Live In NYC|  2022-06-10|           4|1agTQzOTUnGNggyck...|spotify:track:1ag...|       0.567|       0.369| 0.985|        0.000107|   0.895|  -5.535|      0.193|132.994|  0.147|        32|     305880|\n",
      "|  4|   Don’t Stop - Live|Licked Live In NYC|  2022-06-10|           5|7piGJR8YndQBQWVXv...|spotify:track:7pi...|         0.4|       0.303| 0.969|          0.0559|   0.966|  -5.098|      0.093|130.533|  0.206|        32|     305106|\n",
      "|  5|   Monkey Man - Live|Licked Live In NYC|  2022-06-10|           6|3ixZ1NQk5sqvBZgWe...|spotify:track:3ix...|       0.275|        0.34| 0.956|           0.125|   0.741|  -5.539|     0.0915|101.628|  0.125|        31|     244293|\n",
      "|  6|        Angie - Live|Licked Live In NYC|  2022-06-10|           7|3R1Vq1RS6mWNSD2on...|spotify:track:3R1...|       0.561|       0.262|  0.81|        2.76e-06|   0.972|  -6.851|     0.0969|  77.52|  0.394|        31|     245506|\n",
      "|  7| Let It Bleed - Live|Licked Live In NYC|  2022-06-10|           8|0TGmW5dvuocb0QUMP...|spotify:track:0TG...|       0.317|       0.413| 0.971|        0.000267|   0.993|  -5.509|     0.0873|128.958|  0.484|        30|     313586|\n",
      "|  8|Midnight Rambler ...|Licked Live In NYC|  2022-06-10|           9|643LFQHx7UKat9u6U...|spotify:track:643...|       0.416|       0.268| 0.942|          0.0408|   0.959|  -6.018|      0.119|139.452|  0.285|        30|     781173|\n",
      "|  9|Tumbling Dice - Live|Licked Live In NYC|  2022-06-10|          10|5NMRgeO81hNY5nEEY...|spotify:track:5NM...|       0.401|        0.31| 0.944|          0.0752|   0.974|  -5.074|      0.128|119.782|  0.188|        29|     333413|\n",
      "| 10|Band Introduction...|Licked Live In NYC|  2022-06-10|          11|06KxbhUQxW94BdHvj...|spotify:track:06K...|       0.732|       0.262| 0.939|         0.00952|   0.936|  -9.269|      0.222|  79.42| 0.0317|        27|     284426|\n",
      "| 11|Thru And Thru - Live|Licked Live In NYC|  2022-06-10|          12|1rXa5covpujMsZPzO...|spotify:track:1rX...|       0.672|       0.278| 0.651|        0.000425|   0.893|  -7.024|     0.0553| 95.853|  0.334|        27|     432360|\n",
      "| 12|        Happy - Live|Licked Live In NYC|  2022-06-10|          13|0qr1oRKbG1EazVFjN...|spotify:track:0qr...|       0.473|       0.322| 0.947|           0.163|   0.955|   -4.12|     0.0602|136.149|  0.498|        27|     222560|\n",
      "| 13|Gimme Shelter - Live|Licked Live In NYC|  2022-06-10|          14|3Dv8Lmpi2bWyOdyfw...|spotify:track:3Dv...|       0.423|        0.36|  0.98|         0.00219|    0.98|  -5.104|      0.104|119.779|  0.136|        28|     430426|\n",
      "| 14|You Got Me Rockin...|Licked Live In NYC|  2022-06-10|          15|2aN5Ar91xvFAEdpeD...|spotify:track:2aN...|        0.32|       0.388| 0.974|          0.0955|   0.966|  -4.982|     0.0974|128.486|  0.166|        26|     227546|\n",
      "| 15|Can't You Hear Me...|Licked Live In NYC|  2022-06-10|          16|2hyGhUTLHq3M5xquW...|spotify:track:2hy...|       0.435|       0.401| 0.921|          0.0366|   0.976|  -5.664|     0.0517|144.848|  0.734|        27|     667986|\n",
      "| 16|Honky Tonk Women ...|Licked Live In NYC|  2022-06-10|          17|3na0tUgyURnbyXe6q...|spotify:track:3na...|       0.536|       0.401|  0.94|         0.00183|   0.937|  -4.858|     0.0928|112.304|  0.342|        27|     301106|\n",
      "| 17| Satisfaction - Live|Licked Live In NYC|  2022-06-10|          18|6oM2I8fqyXxIRaZVJ...|spotify:track:6oM...|         0.5|       0.256| 0.979|           0.309|   0.969|  -4.472|     0.0906|142.464|   0.24|        28|     371133|\n",
      "| 18|It's Only Rock 'N...|Licked Live In NYC|  2022-06-10|          19|1Wkbdv5UDv3slS34W...|spotify:track:1Wk...|       0.675|       0.378| 0.986|           0.621|   0.971|  -5.232|     0.0833|140.253|  0.436|        25|     303960|\n",
      "| 19|When The Whip Com...|Licked Live In NYC|  2022-06-10|          20|4hTRileyEpgtFpZ64...|spotify:track:4hT...|       0.336|       0.292| 0.986|           0.282|   0.975|  -5.827|      0.131|149.383|  0.179|        24|     291093|\n",
      "+---+--------------------+------------------+------------+------------+--------------------+--------------------+------------+------------+------+----------------+--------+--------+-----------+-------+-------+----------+-----------+\n",
      "only showing top 20 rows\n",
      "\n"
     ]
    }
   ],
   "source": [
    "data_spark = spark.read.csv('D:/Programming/Pyspark-BigData/rolling_stones_spotify.csv')\n",
    "data_spark=spark.read.option('header','true').csv('rolling_stones_spotify.csv')\n",
    "data_spark.show()"
   ]
  },
  {
   "cell_type": "code",
   "execution_count": 24,
   "metadata": {},
   "outputs": [
    {
     "data": {
      "text/plain": [
       "pyspark.sql.dataframe.DataFrame"
      ]
     },
     "execution_count": 24,
     "metadata": {},
     "output_type": "execute_result"
    }
   ],
   "source": [
    "type(data_spark)"
   ]
  },
  {
   "cell_type": "code",
   "execution_count": 26,
   "metadata": {},
   "outputs": [
    {
     "data": {
      "text/plain": [
       "[Row(_c0='0', name='Concert Intro Music - Live', album='Licked Live In NYC', release_date='2022-06-10', track_number='1', id='2IEkywLJ4ykbhi1yRQvmsT', uri='spotify:track:2IEkywLJ4ykbhi1yRQvmsT', acousticness='0.0824', danceability='0.463', energy='0.993', instrumentalness='0.996', liveness='0.932', loudness='-12.913', speechiness='0.11', tempo='118.001', valence='0.0302', popularity='33', duration_ms='48640'),\n",
       " Row(_c0='1', name='Street Fighting Man - Live', album='Licked Live In NYC', release_date='2022-06-10', track_number='2', id='6GVgVJBKkGJoRfarYRvGTU', uri='spotify:track:6GVgVJBKkGJoRfarYRvGTU', acousticness='0.437', danceability='0.326', energy='0.965', instrumentalness='0.233', liveness='0.961', loudness='-4.803', speechiness='0.0759', tempo='131.455', valence='0.318', popularity='34', duration_ms='253173'),\n",
       " Row(_c0='2', name='Start Me Up - Live', album='Licked Live In NYC', release_date='2022-06-10', track_number='3', id='1Lu761pZ0dBTGpzxaQoZNW', uri='spotify:track:1Lu761pZ0dBTGpzxaQoZNW', acousticness='0.416', danceability='0.386', energy='0.969', instrumentalness='0.4', liveness='0.956', loudness='-4.936', speechiness='0.115', tempo='130.066', valence='0.313', popularity='34', duration_ms='263160'),\n",
       " Row(_c0='3', name=\"If You Can't Rock Me - Live\", album='Licked Live In NYC', release_date='2022-06-10', track_number='4', id='1agTQzOTUnGNggyckEqiDH', uri='spotify:track:1agTQzOTUnGNggyckEqiDH', acousticness='0.567', danceability='0.369', energy='0.985', instrumentalness='0.000107', liveness='0.895', loudness='-5.535', speechiness='0.193', tempo='132.994', valence='0.147', popularity='32', duration_ms='305880'),\n",
       " Row(_c0='4', name='Don’t Stop - Live', album='Licked Live In NYC', release_date='2022-06-10', track_number='5', id='7piGJR8YndQBQWVXv6KtQw', uri='spotify:track:7piGJR8YndQBQWVXv6KtQw', acousticness='0.4', danceability='0.303', energy='0.969', instrumentalness='0.0559', liveness='0.966', loudness='-5.098', speechiness='0.093', tempo='130.533', valence='0.206', popularity='32', duration_ms='305106')]"
      ]
     },
     "execution_count": 26,
     "metadata": {},
     "output_type": "execute_result"
    }
   ],
   "source": [
    "data_spark.head(5)"
   ]
  },
  {
   "cell_type": "code",
   "execution_count": 27,
   "metadata": {},
   "outputs": [
    {
     "name": "stdout",
     "output_type": "stream",
     "text": [
      "root\n",
      " |-- _c0: string (nullable = true)\n",
      " |-- name: string (nullable = true)\n",
      " |-- album: string (nullable = true)\n",
      " |-- release_date: string (nullable = true)\n",
      " |-- track_number: string (nullable = true)\n",
      " |-- id: string (nullable = true)\n",
      " |-- uri: string (nullable = true)\n",
      " |-- acousticness: string (nullable = true)\n",
      " |-- danceability: string (nullable = true)\n",
      " |-- energy: string (nullable = true)\n",
      " |-- instrumentalness: string (nullable = true)\n",
      " |-- liveness: string (nullable = true)\n",
      " |-- loudness: string (nullable = true)\n",
      " |-- speechiness: string (nullable = true)\n",
      " |-- tempo: string (nullable = true)\n",
      " |-- valence: string (nullable = true)\n",
      " |-- popularity: string (nullable = true)\n",
      " |-- duration_ms: string (nullable = true)\n",
      "\n"
     ]
    }
   ],
   "source": [
    "data_spark.printSchema()"
   ]
  },
  {
   "attachments": {},
   "cell_type": "markdown",
   "metadata": {},
   "source": [
    "## PySpark DataFrame part-1"
   ]
  },
  {
   "cell_type": "code",
   "execution_count": 28,
   "metadata": {},
   "outputs": [],
   "source": [
    "from pyspark.sql import SparkSession"
   ]
  },
  {
   "cell_type": "code",
   "execution_count": 29,
   "metadata": {},
   "outputs": [],
   "source": [
    "spark =SparkSession.builder.appName('DataFrame').getOrCreate()"
   ]
  },
  {
   "cell_type": "code",
   "execution_count": 30,
   "metadata": {},
   "outputs": [
    {
     "data": {
      "text/html": [
       "\n",
       "            <div>\n",
       "                <p><b>SparkSession - in-memory</b></p>\n",
       "                \n",
       "        <div>\n",
       "            <p><b>SparkContext</b></p>\n",
       "\n",
       "            <p><a href=\"http://192.168.1.6:4040\">Spark UI</a></p>\n",
       "\n",
       "            <dl>\n",
       "              <dt>Version</dt>\n",
       "                <dd><code>v3.3.1</code></dd>\n",
       "              <dt>Master</dt>\n",
       "                <dd><code>local[*]</code></dd>\n",
       "              <dt>AppName</dt>\n",
       "                <dd><code>pratice</code></dd>\n",
       "            </dl>\n",
       "        </div>\n",
       "        \n",
       "            </div>\n",
       "        "
      ],
      "text/plain": [
       "<pyspark.sql.session.SparkSession at 0x23280d3b280>"
      ]
     },
     "execution_count": 30,
     "metadata": {},
     "output_type": "execute_result"
    }
   ],
   "source": [
    "spark"
   ]
  },
  {
   "cell_type": "code",
   "execution_count": 35,
   "metadata": {},
   "outputs": [],
   "source": [
    "## read the Dataset\n",
    "df_pyspark=spark.read.option('header','true').csv('./rolling_stones_spotify.csv',inferSchema=True)"
   ]
  },
  {
   "cell_type": "code",
   "execution_count": 36,
   "metadata": {},
   "outputs": [
    {
     "name": "stdout",
     "output_type": "stream",
     "text": [
      "root\n",
      " |-- _c0: integer (nullable = true)\n",
      " |-- name: string (nullable = true)\n",
      " |-- album: string (nullable = true)\n",
      " |-- release_date: timestamp (nullable = true)\n",
      " |-- track_number: integer (nullable = true)\n",
      " |-- id: string (nullable = true)\n",
      " |-- uri: string (nullable = true)\n",
      " |-- acousticness: double (nullable = true)\n",
      " |-- danceability: double (nullable = true)\n",
      " |-- energy: double (nullable = true)\n",
      " |-- instrumentalness: double (nullable = true)\n",
      " |-- liveness: double (nullable = true)\n",
      " |-- loudness: double (nullable = true)\n",
      " |-- speechiness: double (nullable = true)\n",
      " |-- tempo: double (nullable = true)\n",
      " |-- valence: double (nullable = true)\n",
      " |-- popularity: integer (nullable = true)\n",
      " |-- duration_ms: integer (nullable = true)\n",
      "\n"
     ]
    }
   ],
   "source": [
    "# check the schema like df.info\n",
    "\n",
    "df_pyspark.printSchema()"
   ]
  },
  {
   "cell_type": "code",
   "execution_count": 37,
   "metadata": {},
   "outputs": [
    {
     "data": {
      "text/plain": [
       "pyspark.sql.dataframe.DataFrame"
      ]
     },
     "execution_count": 37,
     "metadata": {},
     "output_type": "execute_result"
    }
   ],
   "source": [
    "type(df_pyspark)"
   ]
  },
  {
   "cell_type": "code",
   "execution_count": 38,
   "metadata": {},
   "outputs": [
    {
     "data": {
      "text/plain": [
       "['_c0',\n",
       " 'name',\n",
       " 'album',\n",
       " 'release_date',\n",
       " 'track_number',\n",
       " 'id',\n",
       " 'uri',\n",
       " 'acousticness',\n",
       " 'danceability',\n",
       " 'energy',\n",
       " 'instrumentalness',\n",
       " 'liveness',\n",
       " 'loudness',\n",
       " 'speechiness',\n",
       " 'tempo',\n",
       " 'valence',\n",
       " 'popularity',\n",
       " 'duration_ms']"
      ]
     },
     "execution_count": 38,
     "metadata": {},
     "output_type": "execute_result"
    }
   ],
   "source": [
    "df_pyspark.columns"
   ]
  },
  {
   "cell_type": "code",
   "execution_count": 39,
   "metadata": {},
   "outputs": [
    {
     "data": {
      "text/plain": [
       "[Row(_c0=0, name='Concert Intro Music - Live', album='Licked Live In NYC', release_date=datetime.datetime(2022, 6, 10, 0, 0), track_number=1, id='2IEkywLJ4ykbhi1yRQvmsT', uri='spotify:track:2IEkywLJ4ykbhi1yRQvmsT', acousticness=0.0824, danceability=0.463, energy=0.993, instrumentalness=0.996, liveness=0.932, loudness=-12.913, speechiness=0.11, tempo=118.001, valence=0.0302, popularity=33, duration_ms=48640),\n",
       " Row(_c0=1, name='Street Fighting Man - Live', album='Licked Live In NYC', release_date=datetime.datetime(2022, 6, 10, 0, 0), track_number=2, id='6GVgVJBKkGJoRfarYRvGTU', uri='spotify:track:6GVgVJBKkGJoRfarYRvGTU', acousticness=0.437, danceability=0.326, energy=0.965, instrumentalness=0.233, liveness=0.961, loudness=-4.803, speechiness=0.0759, tempo=131.455, valence=0.318, popularity=34, duration_ms=253173),\n",
       " Row(_c0=2, name='Start Me Up - Live', album='Licked Live In NYC', release_date=datetime.datetime(2022, 6, 10, 0, 0), track_number=3, id='1Lu761pZ0dBTGpzxaQoZNW', uri='spotify:track:1Lu761pZ0dBTGpzxaQoZNW', acousticness=0.416, danceability=0.386, energy=0.969, instrumentalness=0.4, liveness=0.956, loudness=-4.936, speechiness=0.115, tempo=130.066, valence=0.313, popularity=34, duration_ms=263160)]"
      ]
     },
     "execution_count": 39,
     "metadata": {},
     "output_type": "execute_result"
    }
   ],
   "source": [
    "df_pyspark.head(3)"
   ]
  },
  {
   "cell_type": "code",
   "execution_count": 41,
   "metadata": {},
   "outputs": [
    {
     "name": "stdout",
     "output_type": "stream",
     "text": [
      "+--------------------+--------+\n",
      "|                name|loudness|\n",
      "+--------------------+--------+\n",
      "|Concert Intro Mus...| -12.913|\n",
      "|Street Fighting M...|  -4.803|\n",
      "|  Start Me Up - Live|  -4.936|\n",
      "|If You Can't Rock...|  -5.535|\n",
      "|   Don’t Stop - Live|  -5.098|\n",
      "|   Monkey Man - Live|  -5.539|\n",
      "|        Angie - Live|  -6.851|\n",
      "| Let It Bleed - Live|  -5.509|\n",
      "|Midnight Rambler ...|  -6.018|\n",
      "|Tumbling Dice - Live|  -5.074|\n",
      "|Band Introduction...|  -9.269|\n",
      "|Thru And Thru - Live|  -7.024|\n",
      "|        Happy - Live|   -4.12|\n",
      "|Gimme Shelter - Live|  -5.104|\n",
      "|You Got Me Rockin...|  -4.982|\n",
      "|Can't You Hear Me...|  -5.664|\n",
      "|Honky Tonk Women ...|  -4.858|\n",
      "| Satisfaction - Live|  -4.472|\n",
      "|It's Only Rock 'N...|  -5.232|\n",
      "|When The Whip Com...|  -5.827|\n",
      "+--------------------+--------+\n",
      "only showing top 20 rows\n",
      "\n"
     ]
    }
   ],
   "source": [
    "df_pyspark.select(['name','loudness']).show()"
   ]
  },
  {
   "cell_type": "code",
   "execution_count": 43,
   "metadata": {},
   "outputs": [
    {
     "data": {
      "text/plain": [
       "[('_c0', 'int'),\n",
       " ('name', 'string'),\n",
       " ('album', 'string'),\n",
       " ('release_date', 'timestamp'),\n",
       " ('track_number', 'int'),\n",
       " ('id', 'string'),\n",
       " ('uri', 'string'),\n",
       " ('acousticness', 'double'),\n",
       " ('danceability', 'double'),\n",
       " ('energy', 'double'),\n",
       " ('instrumentalness', 'double'),\n",
       " ('liveness', 'double'),\n",
       " ('loudness', 'double'),\n",
       " ('speechiness', 'double'),\n",
       " ('tempo', 'double'),\n",
       " ('valence', 'double'),\n",
       " ('popularity', 'int'),\n",
       " ('duration_ms', 'int')]"
      ]
     },
     "execution_count": 43,
     "metadata": {},
     "output_type": "execute_result"
    }
   ],
   "source": [
    "df_pyspark.dtypes"
   ]
  },
  {
   "cell_type": "code",
   "execution_count": 45,
   "metadata": {},
   "outputs": [
    {
     "name": "stdout",
     "output_type": "stream",
     "text": [
      "+-------+------------------+--------------------+--------------------+-----------------+--------------------+--------------------+-------------------+------------------+-------------------+-------------------+------------------+------------------+--------------------+------------------+-------------------+------------------+------------------+\n",
      "|summary|               _c0|                name|               album|     track_number|                  id|                 uri|       acousticness|      danceability|             energy|   instrumentalness|          liveness|          loudness|         speechiness|             tempo|            valence|        popularity|       duration_ms|\n",
      "+-------+------------------+--------------------+--------------------+-----------------+--------------------+--------------------+-------------------+------------------+-------------------+-------------------+------------------+------------------+--------------------+------------------+-------------------+------------------+------------------+\n",
      "|  count|              1610|                1610|                1610|             1610|                1610|                1610|               1610|              1610|               1610|               1610|              1610|              1610|                1610|              1610|               1610|              1610|              1610|\n",
      "|   mean|             804.5|                null|                null|8.613664596273292|                null|                null|0.25047476487577613|0.4688596273291928| 0.7923521739130428|0.16416977908695662|0.4917296273291928|-6.971614906832278| 0.06951242236024845|126.08203291925437| 0.5821654658385094|20.788198757763976|257736.48819875775|\n",
      "| stddev|464.91128185923816|                null|                null|6.560219653419205|                null|                null| 0.2273968923468457|0.1417750524297935|0.17988583030268476| 0.2762487405581574| 0.349099611596946|2.9940026773280066|0.051631370585719004| 29.23348285620146|0.23125279788998415|12.426859374735496|108333.47492032828|\n",
      "|    min|                 0|\"Intro: Excerpt F...|              12 X 5|                1|00hKh3kUrEgNSwPdf...|spotify:track:00h...|            8.94E-6|             0.104|              0.141|                0.0|            0.0219|           -24.408|              0.0232|            46.525|                0.0|                 0|             21000|\n",
      "|    max|              1609|You’re Gonna Miss...|got LIVE if you w...|               47|7zJobhMVgGeYxGxSP...|spotify:track:7zJ...|              0.994|             0.887|              0.999|              0.996|             0.998|            -1.014|               0.624|           216.304|              0.974|                80|            981866|\n",
      "+-------+------------------+--------------------+--------------------+-----------------+--------------------+--------------------+-------------------+------------------+-------------------+-------------------+------------------+------------------+--------------------+------------------+-------------------+------------------+------------------+\n",
      "\n"
     ]
    }
   ],
   "source": [
    "df_pyspark.describe().show()"
   ]
  },
  {
   "cell_type": "code",
   "execution_count": null,
   "metadata": {},
   "outputs": [],
   "source": []
  }
 ],
 "metadata": {
  "kernelspec": {
   "display_name": "Python 3",
   "language": "python",
   "name": "python3"
  },
  "language_info": {
   "codemirror_mode": {
    "name": "ipython",
    "version": 3
   },
   "file_extension": ".py",
   "mimetype": "text/x-python",
   "name": "python",
   "nbconvert_exporter": "python",
   "pygments_lexer": "ipython3",
   "version": "3.10.9"
  },
  "orig_nbformat": 4,
  "vscode": {
   "interpreter": {
    "hash": "feb81d5d1cb1e3ad3c1f152c3058a9f8303a08c5a4dda7c4edf0e5beebafd599"
   }
  }
 },
 "nbformat": 4,
 "nbformat_minor": 2
}
